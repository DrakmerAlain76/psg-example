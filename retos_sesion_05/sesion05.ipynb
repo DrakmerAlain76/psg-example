{
 "cells": [
  {
   "cell_type": "code",
   "execution_count": null,
   "id": "ae5641c8",
   "metadata": {},
   "outputs": [],
   "source": [
    "#Escribe un programa en Python que calcule el total a pagar si se compran 12 productos iguales donde cada uno cuesta 3.75 USD.\n",
    "# Precio de un producto\n",
    "precio_unitario = 3.75\n",
    "\n",
    "# Cantidad de productos\n",
    "cantidad = 12\n",
    "\n",
    "# Cálculo del total\n",
    "total = precio_unitario * cantidad\n",
    "\n",
    "# Mostrar el resultado\n",
    "print(f\"Total a pagar por {cantidad} productos: ${total:.2f}\")\n"
   ]
  },
  {
   "cell_type": "code",
   "execution_count": null,
   "id": "f6cb1894",
   "metadata": {},
   "outputs": [],
   "source": [
    "#Escribe un programa en Python que convierta las siguientes temperaturas de grados Fahrenheit a grados Celsius:\n",
    "#    25 ºF\n",
    "#    300 ºF\n",
    "#    76 ºF\n",
    "\n",
    "# Temperaturas en grados Fahrenheit\n",
    "f1 = 25\n",
    "f2 = 300\n",
    "f3 = 76\n",
    "\n",
    "# Conversión a grados Celsius usando la fórmula: (F - 32) * 5 / 9\n",
    "c1 = (f1 - 32) * 5 / 9\n",
    "c2 = (f2 - 32) * 5 / 9\n",
    "c3 = (f3 - 32) * 5 / 9\n",
    "\n",
    "# Mostrar resultados\n",
    "print(f\"{f1} ºF = {c1:.2f} ºC\")\n",
    "print(f\"{f2} ºF = {c2:.2f} ºC\")\n",
    "print(f\"{f3} ºF = {c3:.2f} ºC\")\n"
   ]
  },
  {
   "cell_type": "code",
   "execution_count": null,
   "id": "63844689",
   "metadata": {},
   "outputs": [],
   "source": [
    "#Escribe un programa en Python que convierta 1000000 de segundos en semanas, días, horas, minutos y segundos\n",
    "#Ejemplo:\n",
    "#788521 segundos = 9 días 3 horas 2 minutos 1 segundo\n",
    "# Total de segundos\n",
    "total_segundos = 1000000\n",
    "\n",
    "# Cálculos\n",
    "semanas = total_segundos // (7 * 24 * 60 * 60)\n",
    "resto = total_segundos % (7 * 24 * 60 * 60)\n",
    "\n",
    "días = resto // (24 * 60 * 60)\n",
    "resto %= (24 * 60 * 60)\n",
    "\n",
    "horas = resto // (60 * 60)\n",
    "resto %= (60 * 60)\n",
    "\n",
    "minutos = resto // 60\n",
    "segundos = resto % 60\n",
    "\n",
    "# Mostrar el resultado\n",
    "print(f\"{total_segundos} segundos = {semanas} semanas {días} días {horas} horas {minutos} minutos {segundos} segundos\")\n"
   ]
  },
  {
   "cell_type": "code",
   "execution_count": null,
   "id": "d46256d5",
   "metadata": {},
   "outputs": [],
   "source": [
    "#Calcular el volumen de un cubo donde uno de sus lados mide 15 metros, utilizando la fórmula general del volumen de un cubo\n",
    "# Longitud del lado del cubo (en metros)\n",
    "lado = 15\n",
    "\n",
    "# Cálculo del volumen\n",
    "volumen = lado ** 3\n",
    "\n",
    "# Mostrar el resultado\n",
    "print(f\"El volumen del cubo es: {volumen} metros cúbicos\")\n"
   ]
  }
 ],
 "metadata": {
  "language_info": {
   "name": "python"
  }
 },
 "nbformat": 4,
 "nbformat_minor": 5
}
