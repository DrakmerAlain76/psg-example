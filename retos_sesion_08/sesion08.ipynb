{
 "cells": [
  {
   "cell_type": "code",
   "execution_count": null,
   "id": "ae5641c8",
   "metadata": {},
   "outputs": [],
   "source": [
    "type(valor)"
   ]
  },
  {
   "cell_type": "code",
   "execution_count": null,
   "id": "5bf563e2",
   "metadata": {},
   "outputs": [],
   "source": [
    "print(type(1))"
   ]
  },
  {
   "cell_type": "code",
   "execution_count": null,
   "id": "0983981f",
   "metadata": {},
   "outputs": [],
   "source": [
    "python sesion05.py"
   ]
  },
  {
   "cell_type": "code",
   "execution_count": null,
   "id": "63017792",
   "metadata": {},
   "outputs": [],
   "source": [
    "nombre_variable = \"valor\""
   ]
  },
  {
   "cell_type": "code",
   "execution_count": null,
   "id": "2e2518c1",
   "metadata": {},
   "outputs": [],
   "source": [
    "x1q3z9ahd = 35.0\n",
    "x1q3z9afd = 12.50\n",
    "x1q3p9afd = x1q3z9ahd * x1q3z9afd\n",
    "print(x1q3p9afd)"
   ]
  },
  {
   "cell_type": "code",
   "execution_count": null,
   "id": "f7a392b6",
   "metadata": {},
   "outputs": [],
   "source": [
    "horas = 35.0\n",
    "tarifa = 12.50\n",
    "salario = horas * tarifa\n",
    "print(salario)"
   ]
  },
  {
   "cell_type": "code",
   "execution_count": null,
   "id": "feddc5ba",
   "metadata": {},
   "outputs": [],
   "source": [
    "# Valor 10 Entero\n",
    "print (10)\n",
    "print ( type (10) )"
   ]
  },
  {
   "cell_type": "code",
   "execution_count": null,
   "id": "dcf3e853",
   "metadata": {},
   "outputs": [],
   "source": [
    "# Variable 100 Entero\n",
    "variable = 100\n",
    "print (variable)\n",
    "print ( type (variable) )"
   ]
  },
  {
   "cell_type": "code",
   "execution_count": null,
   "id": "0095d556",
   "metadata": {},
   "outputs": [],
   "source": [
    "# Variable 20 Entero\n",
    "variable_2 = int (20)\n",
    "print (variable_2)\n",
    "print ( type (variable_2) )"
   ]
  },
  {
   "cell_type": "code",
   "execution_count": null,
   "id": "eebee417",
   "metadata": {},
   "outputs": [],
   "source": [
    "# Valor 10 en base decimal\n",
    "print (\"Base decimal\")\n",
    "print (10)\n",
    "# Valor 10 en binario\n",
    "print (\"Base binaria\")\n",
    "print (0b1010)\n",
    "# Valor 10 en octal\n",
    "print (\"Base octal\")\n",
    "print (0o12)\n",
    "# Valor 10 en hexadecimal\n",
    "print (\"Base hexadecimal\")\n",
    "print (0xa)"
   ]
  },
  {
   "cell_type": "code",
   "execution_count": null,
   "id": "2bcd3ca2",
   "metadata": {},
   "outputs": [],
   "source": [
    "# Entero con 60 dígitos\n",
    "variable_3 = 123456789012345678901234567890123456789012345678901234567890\n",
    "print (variable_3)\n",
    "print (type (variable_3))"
   ]
  },
  {
   "cell_type": "code",
   "execution_count": null,
   "id": "e0d04943",
   "metadata": {},
   "outputs": [],
   "source": [
    "# Valor 0.5 Flotante\n",
    "print (0.5)\n",
    "print ( type (0.5) )"
   ]
  },
  {
   "cell_type": "code",
   "execution_count": null,
   "id": "6c2d875f",
   "metadata": {},
   "outputs": [],
   "source": [
    "# Variable 0.100546 Flotante\n",
    "variable_4 = 0.100546\n",
    "print (variable_4)\n",
    "print ( type (variable_4) )"
   ]
  },
  {
   "cell_type": "code",
   "execution_count": null,
   "id": "a843b663",
   "metadata": {},
   "outputs": [],
   "source": [
    "# Variable 1 Flotante\n",
    "variable_7 = float (1)\n",
    "print(variable_7)\n",
    "print ( type (variable_7) )"
   ]
  },
  {
   "cell_type": "code",
   "execution_count": null,
   "id": "0082c669",
   "metadata": {},
   "outputs": [],
   "source": [
    "# Valor 2.0e-3 Flotante\n",
    "variable_6 = 2.0e-3\n",
    "print(variable_6)\n",
    "print ( type (variable_6) )"
   ]
  },
  {
   "cell_type": "code",
   "execution_count": null,
   "id": "a9136696",
   "metadata": {},
   "outputs": [],
   "source": [
    "# Precisión de 17 decimales\n",
    "variable_5 = 0.9999999999999999\n",
    "print(variable_5)\n",
    "print ( type (variable_5) )"
   ]
  },
  {
   "cell_type": "code",
   "execution_count": null,
   "id": "a2105bcc",
   "metadata": {},
   "outputs": [],
   "source": [
    "# Operadores aritméticos\n",
    "a = 10\n",
    "b = 3\n",
    "# Suma\n",
    "print (\"Suma\")\n",
    "print (a + b)\n",
    "# Resta\n",
    "print (\"Resta\")\n",
    "print (a - b)\n",
    "# Multiplicación\n",
    "print (\"Multiplicación\")\n",
    "print (a * b)\n",
    "# División\n",
    "print (\"División\")\n",
    "print (a / b)\n",
    "# Potencia\n",
    "print (\"Potencia\")\n",
    "print (a ** b)\n",
    "# Módulo o residuo\n",
    "print (\"Módulo o residuo\")\n",
    "print (a % b)\n",
    "# División entera\n",
    "print (\"División entera\")\n",
    "print (a // b)"
   ]
  },
  {
   "cell_type": "code",
   "execution_count": null,
   "id": "e558cffb",
   "metadata": {},
   "outputs": [],
   "source": [
    "# Operaciones más complejas\n",
    "minutos = 300\n",
    "tiempo_extra_segundos = 3600\n",
    "horas = (minutos + tiempo_extra_segundos / 60) / 60\n",
    "print (horas)"
   ]
  },
  {
   "cell_type": "code",
   "execution_count": null,
   "id": "bf93497b",
   "metadata": {},
   "outputs": [],
   "source": [
    "print (\"Operadores de comparación\")\n",
    "comparar = 10\n",
    "print (comparar < 10)\n",
    "print (comparar > 10)\n",
    "print (comparar == 10)\n",
    "print (comparar <= 10)\n",
    "print (comparar >= 10)\n",
    "print (comparar != 10)"
   ]
  },
  {
   "cell_type": "code",
   "execution_count": null,
   "id": "8677aa9b",
   "metadata": {},
   "outputs": [],
   "source": [
    "print (\"Operadores de comparación con int - float\")\n",
    "entero = 10\n",
    "flotante = 10.0\n",
    "print (entero < flotante)\n",
    "print (entero > flotante)\n",
    "print (entero == flotante)\n",
    "print (entero <= flotante)\n",
    "print (entero >= flotante)\n",
    "print (entero != flotante)"
   ]
  },
  {
   "cell_type": "code",
   "execution_count": null,
   "id": "0933dd6f",
   "metadata": {},
   "outputs": [],
   "source": [
    "git add .\n",
    "git commit -m \"Clase sesión 05\"\n",
    "git push"
   ]
  }
 ],
 "metadata": {
  "language_info": {
   "name": "python"
  }
 },
 "nbformat": 4,
 "nbformat_minor": 5
}
