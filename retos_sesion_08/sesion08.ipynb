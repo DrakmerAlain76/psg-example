{
 "cells": [
  {
   "cell_type": "code",
   "execution_count": null,
   "id": "ae5641c8",
   "metadata": {},
   "outputs": [],
   "source": [
    "# 1 Ingresa por teclado tres coordenadas 'x','y','z',\n",
    "#    Convierte los valores a enteros almacena los 3 valores en una tupla e imprime el resultado\n",
    "\n",
    "x = int(input(\"Ingresa la coordenada x: \"))\n",
    "y = int(input(\"Ingresa la coordenada y: \"))\n",
    "z = int(input(\"Ingresa la coordenada z: \"))\n",
    "coordenadas = (x, y, z)\n",
    "print(\"coordenas son: \",coordenadas)  \n"
   ]
  },
  {
   "cell_type": "code",
   "execution_count": null,
   "id": "5bf563e2",
   "metadata": {},
   "outputs": [],
   "source": [
    "# 2 Crea una tupla con los siguientes elementos:\n",
    "# 'a','b','c','d','e','f','g','h','i','j'\n",
    "\n",
    "#     Imprime el primer elemento\n",
    "#     Imprime el último elemento\n",
    "#     Imprime un slice del índice 3 al 5\n",
    "#     Imprime un slice del 5 al 9 con pasos de 3\n",
    "#     Imprime un slice del 9 al 0 con pasos de -2\n",
    "\n",
    "tupla = ('a', 'b', 'c', 'd', 'e', 'f', 'g', 'h', 'i', 'j')\n",
    "print(\"Primer elemento:\", tupla[0])\n",
    "print(\"Último elemento:\", tupla[-1])\n",
    "print(\"Slice del índice 3 al 5:\", tupla[3:6])\n",
    "print(\"Slice del 5 al 9 con pasos de 3:\", tupla[5:10:3])\n",
    "print(\"Slice del 9 al 0 con pasos de -2:\", tupla[9:0:-2])\n"
   ]
  },
  {
   "cell_type": "code",
   "execution_count": null,
   "id": "0983981f",
   "metadata": {},
   "outputs": [],
   "source": [
    "# 3 Ingresa una pregunta por teclado y almacena el valor en una tupla\n",
    "#         Concatena las tupla\n",
    "\n",
    "# ('¿', ) + pregunta + ('?', )\n",
    "\n",
    "#     Imprime el resultado concatenado\n",
    "#     Repite la tupla concatenada 2 veces e imprime el nuevo resultado\n",
    "\n",
    "texto = input(\"Ingresa una pregunta (sin signos de interrogación): \")\n",
    "\n",
    "pregunta = tuple([texto])  # Creamos una tupla con la pregunta\n",
    "\n",
    "# Concatenamos con signos de interrogación\n",
    "pregunta_completa = ('¿',) + pregunta + ('?',)\n",
    "\n",
    "# Unimos todos los elementos en una sola cadena\n",
    "cadena_final = ''.join(pregunta_completa)\n",
    "print(\"Pregunta unida:\", cadena_final)\n",
    "\n",
    "# Repetimos la tupla y volvemos a unir\n",
    "cadena_repetida = ''.join(pregunta_completa * 2)\n",
    "print(\"Pregunta repetida 2 veces:\", cadena_repetida)\n"
   ]
  },
  {
   "cell_type": "code",
   "execution_count": null,
   "id": "63017792",
   "metadata": {},
   "outputs": [],
   "source": [
    "\n",
    "# 4    Las notas de un estudiante durante un semestre son:\n",
    "\n",
    "# 10, 61, 00, 21, 22, 0, 32, 30, 41, 51, 5, 23, 100\n",
    "\n",
    "# Genera una tupla con los resultados y calcula el promedio para saber si aprobó o no el semestre utiliza la función sum() y len()\n",
    "\n",
    "# El promedio debe ser mayor o igual a 51 para aprobar\n",
    "\n",
    "notas = (10, 61, 0, 21, 22, 0, 32, 30, 41, 51, 5, 23, 100)\n",
    "\n",
    "promedio = sum(notas) / len(notas)\n",
    "\n",
    "resultado = (\"Reprobado\", \"Aprobado\")[promedio >= 51]\n",
    "\n",
    "print(\"Promedio:\", promedio)\n",
    "print(\"Resultado:\", resultado)"
   ]
  },
  {
   "cell_type": "code",
   "execution_count": null,
   "id": "2e2518c1",
   "metadata": {},
   "outputs": [],
   "source": [
    "#5     De la siguiente guía telefónica\n",
    "\n",
    "# - Jhon, 591123456, Villa fátima\n",
    "# - Jane, 591546324, Obrajes\n",
    "# - Dogg, 591222421, Miraflores\n",
    "# - Kity, 591753159, Achumani\n",
    "\n",
    "# Genera una tupla anidada e imprime el resultado\n",
    "\n",
    "# Ejemplo:\n",
    "\n",
    "# ((Nombre, Telf, Dir), (Nombre, Telf, Dir), ...)\n",
    "\n",
    "guia_telefonica = (\n",
    "    (\"Jhon\", \"591123456\", \"Villa fátima\"),\n",
    "    (\"Jane\", \"591546324\", \"Obrajes\"),\n",
    "    (\"Dogg\", \"591222421\", \"Miraflores\"),\n",
    "    (\"Kity\", \"591753159\", \"Achumani\")\n",
    ")\n",
    "\n",
    "print(guia_telefonica)\n",
    "\n"
   ]
  },
  {
   "cell_type": "code",
   "execution_count": null,
   "id": "f7a392b6",
   "metadata": {},
   "outputs": [],
   "source": [
    "#6     De las tuplas de coordenadas\n",
    "\n",
    "# (x1,y1)=(−20,−20)(x1,y1)=(−20,−20) y (x2,y2)=(40,20)(x2,y2)=(40,20)\n",
    "\n",
    "# Encuentra las coordenadas del punto medio, almacena en una tupla e imprime el resultado\n",
    "\n",
    "\n",
    "# p1=(x1,y1)\n",
    "# p2=(x2,y2)\n",
    "\n",
    "p1 = (-20, -20)\n",
    "p2 = (40, 20)\n",
    "\n",
    "punto_medio = ( (p1[0] + p2[0]) / 2 , (p1[1] + p2[1]) / 2 )\n",
    "\n",
    "print(\"Punto medio:\", punto_medio)\n"
   ]
  }
 ],
 "metadata": {
  "language_info": {
   "name": "python"
  }
 },
 "nbformat": 4,
 "nbformat_minor": 5
}
