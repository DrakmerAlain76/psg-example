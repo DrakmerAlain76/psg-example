{
 "cells": [
  {
   "cell_type": "code",
   "execution_count": null,
   "id": "4dab29df",
   "metadata": {},
   "outputs": [],
   "source": [
    "# Elimina los elementos de oficina repetidos de la cadena\n",
    "# 📎📐📏✏️🖊️🖋️📎📌📏📇🗂️📁📌🗃️✏️📂🖇️\n",
    "\n",
    "conjunto = {x for x in '📎📐📏✏️🖊️🖋️📎📌📏📇🗂️📁📌🗃️✏️📂🖇️'}\n",
    "print(conjunto)\n",
    "print(type(conjunto))\n",
    "\n",
    "print(\"Los elementos de un conjunto no pueden ser duplicados\")"
   ]
  },
  {
   "cell_type": "code",
   "execution_count": null,
   "id": "ba67ded2",
   "metadata": {},
   "outputs": [],
   "source": [
    "# El dueño de una tienda de ropa deportiva ha comprado ropa formal \n",
    "# y quiere abrir una nueva tienda que combine ambos estilos. \n",
    "# Crea un conjunto con las prendas de ambos tipos con las listas de prendas\n",
    "\n",
    "# [\"Short\", \"Playera\", \"Sudadera\", \"Tenis\", \"Short\", \"Calcetines\"]\n",
    "# [\"Saco\", \"Corbata\", \"Pantalón de vestir\", \"Zapatos\", \"Calcetines\"]\n",
    "\n",
    "ropa_deportiva = {\"Short\", \"Playera\", \"Sudadera\", \"Tenis\", \"Short\", \"Calcetines\"}\n",
    "ropa_formal = {\"Saco\", \"Corbata\", \"Pantalón de vestir\", \"Zapatos\", \"Calcetines\"}\n",
    "\n",
    "nueva_tienda = set(ropa_deportiva) | set(ropa_formal)\n",
    "nueva_tienda = set(ropa_deportiva).union(ropa_formal)\n",
    "print(nueva_tienda)\n"
   ]
  },
  {
   "cell_type": "code",
   "execution_count": null,
   "id": "a4b70d2f",
   "metadata": {},
   "outputs": [],
   "source": [
    "# Tienes dos listas: clientes que compraron en la tienda física y clientes que compraron online.\n",
    "\n",
    "# tienda_fisica = [\"Ana\", \"Luis\", \"Pedro\", \"María\", \"Juan\"]\n",
    "# tienda_online = [\"Pedro\", \"María\", \"Ana\", \"Carlos\", \"Laura\"]\n",
    "\n",
    "# a. Quiénes compraron en ambos canales.\n",
    "# b. Quiénes compraron solo en la tienda física.\n",
    "# c. Quiénes compraron solo online\n",
    "\n",
    "tienda_fisica = {\"Ana\", \"Luis\", \"Pedro\", \"María\", \"Juan\"}\n",
    "tienda_online = {\"Pedro\", \"María\", \"Ana\", \"Carlos\", \"Laura\"}\n",
    "\n",
    "ambos = tienda_fisica & tienda_online\n",
    "\n",
    "solo_fisica = tienda_fisica - tienda_online\n",
    "\n",
    "solo_online = tienda_online - tienda_fisica\n",
    "\n",
    "print(\"a. Ambos:\", ambos)\n",
    "print(\"b. Solo tienda física:\", solo_fisica)\n",
    "print(\"c. Solo online:\", solo_online)\n"
   ]
  },
  {
   "cell_type": "code",
   "execution_count": null,
   "id": "142bd0a2",
   "metadata": {},
   "outputs": [],
   "source": [
    "# Jane y Jhon llevan saliendo juntos por 4 semanas, cada vez que salen van a comer a un candy bar. \n",
    "# Quieren saber que tan compatibles son viendo cuantos platos de comida tienen en común. \n",
    "# A continuación tienes los postres que han ido pidiendo en cada salida:\n",
    "\n",
    "# Jane: Lemon Pie, Brownie, Tarta de Manzana,\n",
    "#       Helado de Chocolate, Flan\n",
    "# Jhon: Carrot Cake, Croissant de Chocolate,\n",
    "#       Lemon Pie, Tarta de Manzana, Pudding\n",
    "# \n",
    "# Si la cantidad de postres que tienen en común es mayor al 50% \n",
    "# entonces son compatibles,\n",
    "# de lo contrario quieren replantear su relación\n",
    "\n",
    "jane = {\"Lemon Pie\", \"Brownie\", \"Tarta de Manzana\", \"Helado de Chocolate\", \"Flan\"}\n",
    "jhon = {\"Carrot Cake\", \"Croissant de Chocolate\", \"Lemon Pie\", \"Tarta de Manzana\", \"Pudding\"}\n",
    "\n",
    "en_comun = jane & jhon\n",
    "total_postres = jane | jhon\n",
    "porcentaje_comun = len(en_comun) / len(total_postres)\n",
    "\n",
    "mensaje_compatible = \"¡Son compatibles! 💕\"\n",
    "mensaje_no_compatible = \"Tal vez deban replantear su relación 💔\"\n",
    "\n",
    "mensaje = (porcentaje_comun > 0.5) * mensaje_compatible + (porcentaje_comun <= 0.5) * mensaje_no_compatible\n",
    "\n",
    "print(mensaje)\n",
    "print(\"Postres en común:\", en_comun)\n",
    "print(\"Compatibilidad:\", round(porcentaje_comun * 100, 2), \"%\")"
   ]
  }
 ],
 "metadata": {
  "language_info": {
   "name": "python"
  }
 },
 "nbformat": 4,
 "nbformat_minor": 5
}
