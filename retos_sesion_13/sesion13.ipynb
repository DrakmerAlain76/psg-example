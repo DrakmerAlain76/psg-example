{
 "cells": [
  {
   "cell_type": "code",
   "execution_count": null,
   "id": "b6fbfe4b",
   "metadata": {},
   "outputs": [],
   "source": [
    "primero = 1\n",
    "segundo = 2\n",
    "tercero = 3"
   ]
  },
  {
   "cell_type": "code",
   "execution_count": null,
   "id": "bdecf03d",
   "metadata": {},
   "outputs": [],
   "source": [
    "range(5)\n",
    "range(1, 10, 2)\n",
    "range(10, 0, -1)\n",
    "print(list(range(5)))\n",
    "print(range(10, 0, -1))"
   ]
  },
  {
   "cell_type": "code",
   "execution_count": null,
   "id": "f51ef521",
   "metadata": {},
   "outputs": [],
   "source": [
    "range(5)"
   ]
  },
  {
   "cell_type": "code",
   "execution_count": null,
   "id": "c19654d2",
   "metadata": {},
   "outputs": [],
   "source": [
    "range(0, 5)"
   ]
  },
  {
   "cell_type": "code",
   "execution_count": null,
   "id": "d0fb3d13",
   "metadata": {},
   "outputs": [],
   "source": [
    "range(5)"
   ]
  },
  {
   "cell_type": "code",
   "execution_count": null,
   "id": "3f7e48aa",
   "metadata": {},
   "outputs": [],
   "source": [
    "0, 1, 2, 3, 4"
   ]
  },
  {
   "cell_type": "code",
   "execution_count": null,
   "id": "cff0d61a",
   "metadata": {},
   "outputs": [],
   "source": [
    "range(1, 10, 2)"
   ]
  },
  {
   "cell_type": "code",
   "execution_count": null,
   "id": "b2fe1ee9",
   "metadata": {},
   "outputs": [],
   "source": [
    "1, 3, 5, 7, 9"
   ]
  },
  {
   "cell_type": "code",
   "execution_count": null,
   "id": "6d31b1cc",
   "metadata": {},
   "outputs": [],
   "source": [
    "range(10, 0, -1)"
   ]
  },
  {
   "cell_type": "code",
   "execution_count": null,
   "id": "6694243e",
   "metadata": {},
   "outputs": [],
   "source": [
    "10, 9, 8, 7, 6, 5, 4, 3, 2, 1"
   ]
  },
  {
   "cell_type": "code",
   "execution_count": null,
   "id": "ec48a408",
   "metadata": {},
   "outputs": [],
   "source": [
    "[0, 1, 2, 3, 4]"
   ]
  },
  {
   "cell_type": "code",
   "execution_count": null,
   "id": "4a60c995",
   "metadata": {},
   "outputs": [],
   "source": [
    "for variable in range(inicio, fin, paso):\n",
    "    print(variable)"
   ]
  },
  {
   "cell_type": "code",
   "execution_count": null,
   "id": "48b80429",
   "metadata": {},
   "outputs": [],
   "source": [
    "print(list(range(5)))"
   ]
  },
  {
   "cell_type": "code",
   "execution_count": null,
   "id": "7c4ce9f9",
   "metadata": {},
   "outputs": [],
   "source": [
    "for i in range(5):\n",
    "    print(i)\n",
    "print(i)\n"
   ]
  },
  {
   "cell_type": "code",
   "execution_count": null,
   "id": "93901707",
   "metadata": {},
   "outputs": [],
   "source": [
    "print (\"Inicio\")\n",
    "for i in range(5): # rango (0,5,1)\n",
    "    print(i)\n",
    "print (\"Fin\")\n"
   ]
  },
  {
   "cell_type": "code",
   "execution_count": null,
   "id": "08c1fd46",
   "metadata": {},
   "outputs": [],
   "source": [
    "print (\"Ejemplo 1\")\n",
    "suma = 0\n",
    "for i in range(1, 11, 2): # 1, 3, 5, 7, 9\n",
    "    suma = suma + i #suma += i\n",
    "print(suma)"
   ]
  },
  {
   "cell_type": "code",
   "execution_count": null,
   "id": "88bbd99f",
   "metadata": {},
   "outputs": [],
   "source": [
    "print (\"Ejemplo 2\")\n",
    "for i in range(0, 6):\n",
    "    print(\" \"*(5-i) + \"*\"*i*2+\"*\")"
   ]
  },
  {
   "cell_type": "code",
   "execution_count": null,
   "id": "80428d2e",
   "metadata": {},
   "outputs": [],
   "source": [
    "print (\"Ejemplo 3\")\n",
    "for i in range(1, 11):\n",
    "    print(i**2, end=\" \")"
   ]
  },
  {
   "cell_type": "code",
   "execution_count": null,
   "id": "9879cd35",
   "metadata": {},
   "outputs": [],
   "source": [
    "print (\"Ejemplo 4\")\n",
    "pares = []\n",
    "for i in range(0, 11, 2):\n",
    "    pares.append(i)\n",
    "print(pares)"
   ]
  },
  {
   "cell_type": "code",
   "execution_count": null,
   "id": "1bb032df",
   "metadata": {},
   "outputs": [],
   "source": [
    "pares = list(list(range(0, 11, 2)))\n",
    "print(pares)"
   ]
  },
  {
   "cell_type": "code",
   "execution_count": null,
   "id": "d37c0049",
   "metadata": {},
   "outputs": [],
   "source": [
    "print (\"Ejercicio 1\") # Ejercicio 1, imprimir los 10 primeros de la serie números cúbicos 2 minutos\n",
    "for i in range(1, 11):\n",
    "    print(i**3, end=\" \")\n",
    "\n",
    "for i in range(1, 11, 1):\n",
    "    print (i**3 , end=\",\")\n",
    "\n",
    "for i in range(1,11):\n",
    "    print(i**3,end=\",\" if i<10 else \"\")\n",
    "\n",
    "cubico = []\n",
    "for i in range(10):\n",
    "    cubico.append((i+1)**3)\n",
    "print(cubico)"
   ]
  },
  {
   "cell_type": "code",
   "execution_count": null,
   "id": "03fef884",
   "metadata": {},
   "outputs": [],
   "source": [
    "for variable in secuencia:\n",
    "    print(variable)"
   ]
  },
  {
   "cell_type": "code",
   "execution_count": null,
   "id": "73e72e59",
   "metadata": {},
   "outputs": [],
   "source": [
    "for fruta in ['🍎','🍌','🍇','🍉']:\n",
    "    print(fruta)"
   ]
  },
  {
   "cell_type": "code",
   "execution_count": null,
   "id": "ba1c27f2",
   "metadata": {},
   "outputs": [],
   "source": [
    "print (\"Ejemplo 5\")\n",
    "fiesta = ['🎄','🎆','🎁','🎊','✨','🧨']\n",
    "for objeto in fiesta:\n",
    "    print(objeto)\n"
   ]
  },
  {
   "cell_type": "code",
   "execution_count": null,
   "id": "6bbcef9c",
   "metadata": {},
   "outputs": [],
   "source": [
    "print (\"Ejemplo 6\")\n",
    "frutas =  ('🍅','🍇','🍈','🍉','🍊')\n",
    "for fruta in frutas:\n",
    "    print(fruta, end=\", \")"
   ]
  },
  {
   "cell_type": "code",
   "execution_count": null,
   "id": "bdda4715",
   "metadata": {},
   "outputs": [],
   "source": [
    "print (\"Ejemplo 7\")\n",
    "frutas = {'🍅':'Tomate','🍇':'Uva','🍈':'Melón','🍉':'Sandía','🍊':'Naranja'}\n",
    "for clave in frutas:\n",
    "    print(clave, frutas[clave])"
   ]
  },
  {
   "cell_type": "code",
   "execution_count": null,
   "id": "4b26b7ec",
   "metadata": {},
   "outputs": [],
   "source": [
    "print (\"Ejemplo 8\")\n",
    "ciclo_vida = '🥚🐣🐥🐤🐔🍗'\n",
    "for etapa in ciclo_vida:\n",
    "    print(etapa, end=\"->\")"
   ]
  },
  {
   "cell_type": "code",
   "execution_count": null,
   "id": "e0bbe752",
   "metadata": {},
   "outputs": [],
   "source": [
    "print (\"Ejemplo 9\")\n",
    "animales = ['🐶','🐱','🐰','🐭']\n",
    "for animal in animales:\n",
    "    print(animal)"
   ]
  },
  {
   "cell_type": "code",
   "execution_count": null,
   "id": "a99e51b5",
   "metadata": {},
   "outputs": [],
   "source": [
    "print (\"Ejemplo 10\")\n",
    "animales = ['🐶','🐱','🐰','🐭']\n",
    "for i in range(len(animales)):\n",
    "    print(animales[i])"
   ]
  },
  {
   "cell_type": "code",
   "execution_count": null,
   "id": "e7a1c5ce",
   "metadata": {},
   "outputs": [],
   "source": [
    "enumerate(['🐶','🐱','🐰','🐭'])"
   ]
  },
  {
   "cell_type": "code",
   "execution_count": null,
   "id": "7b713db0",
   "metadata": {},
   "outputs": [],
   "source": [
    "print (\"Ejemplo 11\")\n",
    "animales = ['🐶','🐱','🐰','🐭']\n",
    "for i, animal in enumerate(animales):\n",
    "    print(i, animal, animales[i])"
   ]
  },
  {
   "cell_type": "code",
   "execution_count": null,
   "id": "a9697f74",
   "metadata": {},
   "outputs": [],
   "source": [
    "print (\"Ejemplo 11.1\")\n",
    "#animales = ['🐶','🐱','🐰','🐭']\n",
    "frutas = {'🍅':'Tomate','🍇':'Uva','🍈':'Melón','🍉':'Sandía','🍊':'Naranja'}\n",
    "print (list(enumerate(frutas)))\n",
    "for i, fruta in enumerate(frutas):\n",
    "    print(i, fruta, frutas[fruta])"
   ]
  },
  {
   "cell_type": "code",
   "execution_count": null,
   "id": "1287f30e",
   "metadata": {},
   "outputs": [],
   "source": [
    "⚽\n",
    "🏀🏀\n",
    "🏐🏐🏐\n",
    "🎱🎱🎱🎱"
   ]
  },
  {
   "cell_type": "code",
   "execution_count": null,
   "id": "d87e4546",
   "metadata": {},
   "outputs": [],
   "source": [
    "print (\"Ejercicio 2\")\n",
    "esferas = '⚽🏀🏐🎱'\n",
    "for i, esfera in enumerate(esferas):\n",
    "    print(esfera*(i+1))"
   ]
  },
  {
   "cell_type": "code",
   "execution_count": null,
   "id": "ced5dcb1",
   "metadata": {},
   "outputs": [],
   "source": [
    "while condicion:\n",
    "    print(\"Código a ejecutar\")"
   ]
  },
  {
   "cell_type": "code",
   "execution_count": null,
   "id": "b528bd58",
   "metadata": {},
   "outputs": [],
   "source": [
    "print (\"Ejemplo 12\")\n",
    "i = 0\n",
    "while i <= 5:\n",
    "    print(i)\n",
    "    i += 1"
   ]
  },
  {
   "cell_type": "code",
   "execution_count": null,
   "id": "e664474b",
   "metadata": {},
   "outputs": [],
   "source": [
    "print (\"Ejemplo 13\")\n",
    "suma = 0\n",
    "numero = int(input(\"Ingrese un número: \"))\n",
    "while numero != 0:\n",
    "    suma += numero\n",
    "    numero = int(input(\"Ingrese un número: \"))\n",
    "print(suma)"
   ]
  },
  {
   "cell_type": "code",
   "execution_count": null,
   "id": "15cc3575",
   "metadata": {},
   "outputs": [],
   "source": [
    "print (\"Ejercicio 3\")\n",
    "numero = int(input(\"Ingrese un número: \"))\n",
    "while numero >= 0:\n",
    "    print(numero)\n",
    "    numero -= 1"
   ]
  },
  {
   "cell_type": "code",
   "execution_count": null,
   "id": "924e379d",
   "metadata": {},
   "outputs": [],
   "source": [
    "frutas = ['🍎','🍌','🍇','🍉','🍊','🐛','🍋','🍍']\n",
    "print (\"Ejemplo 14\")\n",
    "for fruta in frutas:\n",
    "    if fruta == '🐛':\n",
    "        break\n",
    "    print(fruta)\n",
    "print (\"Fin\")\n",
    "frutas = ['🍎','🍌','🍇','🍉','🍊','🐛','🍋','🍍']\n",
    "print (\"Ejemplo 14\")\n",
    "i = \"\"\n",
    "while i != '🐛':\n",
    "    i = frutas.pop(0)\n",
    "    print(i)\n",
    "print (\"Fin\")"
   ]
  },
  {
   "cell_type": "code",
   "execution_count": null,
   "id": "24053b41",
   "metadata": {},
   "outputs": [],
   "source": [
    "frutas = ['🍎','🍌','🍇','🍉','🍊','🐛','🍋','🍍']\n",
    "print (\"Ejemplo 14\")\n",
    "i = \"\"\n",
    "while i != '🐛':\n",
    "    i = frutas.pop(0)\n",
    "    print(i)\n",
    "print (\"Fin\")"
   ]
  },
  {
   "cell_type": "code",
   "execution_count": null,
   "id": "1f3abd75",
   "metadata": {},
   "outputs": [],
   "source": [
    "print (\"Ejemplo 15\")\n",
    "contador = 0\n",
    "while True:\n",
    "    print(contador)\n",
    "    contador += 1"
   ]
  },
  {
   "cell_type": "code",
   "execution_count": null,
   "id": "5369a210",
   "metadata": {},
   "outputs": [],
   "source": [
    "print (\"Ejemplo 16\")\n",
    "while True:\n",
    "    texto = input(\"Ingrese un texto: \")\n",
    "    if texto == 'salir':\n",
    "        break\n",
    "    print(texto.upper())\n",
    "print (\"Fin\")"
   ]
  },
  {
   "cell_type": "code",
   "execution_count": null,
   "id": "d703063f",
   "metadata": {},
   "outputs": [],
   "source": [
    "print (\"Ejercicio 4\")\n",
    "while True:\n",
    "    numero = int(input(\"Ingrese un número: \"))\n",
    "    if numero == 0:\n",
    "        break\n",
    "    print (\"Par\" if numero % 2 == 0 else \"Impar\")"
   ]
  },
  {
   "cell_type": "code",
   "execution_count": null,
   "id": "ea19019c",
   "metadata": {},
   "outputs": [],
   "source": [
    "[expresion for variable in secuencia]"
   ]
  },
  {
   "cell_type": "code",
   "execution_count": null,
   "id": "cd0da94b",
   "metadata": {},
   "outputs": [],
   "source": [
    "[expresion for variable in secuencia if condicion]"
   ]
  },
  {
   "cell_type": "code",
   "execution_count": null,
   "id": "31093c1e",
   "metadata": {},
   "outputs": [],
   "source": [
    "print (\"Ejemplo 17\")\n",
    "pares = [i for i in range(2, 11, 2)]\n",
    "print(pares)"
   ]
  },
  {
   "cell_type": "code",
   "execution_count": null,
   "id": "71cdd015",
   "metadata": {},
   "outputs": [],
   "source": [
    "print (\"Ejemplo 18\")\n",
    "pares = [i for i in range(2, 11) if i % 2 == 0]\n",
    "print(pares)"
   ]
  },
  {
   "cell_type": "code",
   "execution_count": null,
   "id": "a2889674",
   "metadata": {},
   "outputs": [],
   "source": [
    "print (\"Ejemplo 19\")\n",
    "pares = {i: \"Par\" if i % 2 == 0 else \"Impar\" for i in range(2, 11)}\n",
    "print(pares)"
   ]
  },
  {
   "cell_type": "code",
   "execution_count": null,
   "id": "82a16915",
   "metadata": {},
   "outputs": [],
   "source": [
    "print (\"Ejercicio 5\")\n",
    "impares = tuple(i for i in range(1, 11) if i % 2 != 0)\n",
    "print(impares)"
   ]
  },
  {
   "cell_type": "code",
   "execution_count": null,
   "id": "f69b6daa",
   "metadata": {},
   "outputs": [],
   "source": [
    "print (\"Ejemplo 20\")\n",
    "for i in range(1, 3):\n",
    "    print(f\"Tabla del {i}\")\n",
    "    for j in range(1, 11):\n",
    "        print(f\"{i} x {j} = {i*j}\")"
   ]
  },
  {
   "cell_type": "code",
   "execution_count": null,
   "id": "010c251f",
   "metadata": {},
   "outputs": [],
   "source": [
    "print (\"Ejemplo 21\")\n",
    "while True:\n",
    "    numero = int(input(\"Ingrese un número: \"))\n",
    "    if numero == 0:\n",
    "        break\n",
    "    print(f\"Tabla del {numero}\")\n",
    "    for i in range(1, 11):\n",
    "        print(f\"{numero} x {i} = {numero*i}\")\n",
    "print (\"Fin\")\n",
    "\n",
    "matriz = [[1, 2, 3], [4, 5, 6], [7, 8, 9]]\n",
    "for fila in matriz:\n",
    "    for columna in fila:\n",
    "        print(columna, end=\" \")\n",
    "    print()"
   ]
  },
  {
   "cell_type": "code",
   "execution_count": null,
   "id": "b435ec1a",
   "metadata": {},
   "outputs": [],
   "source": [
    "print (\"Ejemplo 22\")\n",
    "n = int(input(\"Ingrese un número: \"))\n",
    "matriz = [['X' for i in range(n)] for j in range(n)]\n",
    "for fila in matriz:\n",
    "    for columna in fila:\n",
    "        print(columna, end=\" \")\n",
    "    print()\n",
    "print (matriz)\n"
   ]
  },
  {
   "cell_type": "code",
   "execution_count": null,
   "id": "f7c3557a",
   "metadata": {},
   "outputs": [],
   "source": [
    "print (\"Ejercicio 6\")\n",
    "n = int(input(\"Ingrese un número: \"))\n",
    "matriz = [[(j, i) for i in range(n)] for j in range(n)]\n",
    "for fila in matriz:\n",
    "    for columna in fila:\n",
    "        print(columna, end=\" \")\n",
    "    print()\n",
    "print (matriz)\n",
    "\n"
   ]
  }
 ],
 "metadata": {
  "kernelspec": {
   "display_name": "Python 3",
   "language": "python",
   "name": "python3"
  },
  "language_info": {
   "codemirror_mode": {
    "name": "ipython",
    "version": 3
   },
   "file_extension": ".py",
   "mimetype": "text/x-python",
   "name": "python",
   "nbconvert_exporter": "python",
   "pygments_lexer": "ipython3",
   "version": "3.10.1"
  }
 },
 "nbformat": 4,
 "nbformat_minor": 5
}
