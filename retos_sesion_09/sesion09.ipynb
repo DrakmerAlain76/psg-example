{
 "cells": [
  {
   "cell_type": "code",
   "execution_count": 2,
   "id": "37e952d1",
   "metadata": {},
   "outputs": [
    {
     "name": "stdout",
     "output_type": "stream",
     "text": [
      "Índice 0: Valor = 3.14, Tipo = <class 'float'>\n",
      "Índice 1: Valor = 2.71, Tipo = <class 'float'>\n",
      "Índice 2: Valor = 1.618, Tipo = <class 'float'>\n",
      "Índice 3: Valor = 0.577, Tipo = <class 'float'>\n",
      "Índice 4: Valor = 4.669, Tipo = <class 'float'>\n",
      "Índice 5: Valor = 1, Tipo = <class 'int'>\n",
      "Índice 6: Valor = 2, Tipo = <class 'int'>\n",
      "Índice 7: Valor = 3, Tipo = <class 'int'>\n",
      "Índice 8: Valor = 4, Tipo = <class 'int'>\n",
      "Índice 9: Valor = 5, Tipo = <class 'int'>\n"
     ]
    }
   ],
   "source": [
    "# Crear una lista con 5 números flotantes y 5 enteros y mostrar todos los elementos y sus tipos de datos utilizando sus índices\n",
    "\n",
    "numeros = [3.14, 2.71, 1.618, 0.577, 4.669, 1, 2, 3, 4, 5]\n",
    "\n",
    "\n",
    "print(f\"Índice 0: Valor = {numeros[0]}, Tipo = {type(numeros[0])}\")\n",
    "print(f\"Índice 1: Valor = {numeros[1]}, Tipo = {type(numeros[1])}\")\n",
    "print(f\"Índice 2: Valor = {numeros[2]}, Tipo = {type(numeros[2])}\")\n",
    "print(f\"Índice 3: Valor = {numeros[3]}, Tipo = {type(numeros[3])}\")\n",
    "print(f\"Índice 4: Valor = {numeros[4]}, Tipo = {type(numeros[4])}\")\n",
    "print(f\"Índice 5: Valor = {numeros[5]}, Tipo = {type(numeros[5])}\")\n",
    "print(f\"Índice 6: Valor = {numeros[6]}, Tipo = {type(numeros[6])}\")\n",
    "print(f\"Índice 7: Valor = {numeros[7]}, Tipo = {type(numeros[7])}\")\n",
    "print(f\"Índice 8: Valor = {numeros[8]}, Tipo = {type(numeros[8])}\")\n",
    "print(f\"Índice 9: Valor = {numeros[9]}, Tipo = {type(numeros[9])}\")"
   ]
  },
  {
   "cell_type": "code",
   "execution_count": 3,
   "id": "06fb70b1",
   "metadata": {},
   "outputs": [
    {
     "name": "stdout",
     "output_type": "stream",
     "text": [
      "[2, 0, 2, 5]\n"
     ]
    }
   ],
   "source": [
    "# De la siguiente lista [5,4,3,2,2,2,0,0,1,2] obtener una sub lista inversa utilizando saltos de 3 en 3\n",
    "\n",
    "lista = [5, 4, 3, 2, 2, 2, 0, 0, 1, 2]\n",
    "\n",
    "# Sublista inversa con saltos de 3 en 3\n",
    "sublista = lista[::-3]\n",
    "\n",
    "print(sublista)\n"
   ]
  },
  {
   "cell_type": "code",
   "execution_count": 4,
   "id": "2d0c281b",
   "metadata": {},
   "outputs": [
    {
     "name": "stdout",
     "output_type": "stream",
     "text": [
      "Sublista (índices 5 al 9, salto de 2): ['Elena', 'Lucía', 'Diego']\n",
      "¿Está 'José' en la lista?: True\n",
      "Sublista ordenada A-Z: ['Ana', 'Carlos', 'Diego', 'Elena', 'José', 'Lucía', 'Luis', 'Marta', 'María', 'Pedro']\n",
      "Lista original ordenada Z-A: ['Pedro', 'María', 'Marta', 'Luis', 'Lucía', 'José', 'Elena', 'Diego', 'Carlos', 'Ana']\n"
     ]
    }
   ],
   "source": [
    "# Crear una lista de personas con 10 nombres de personas\n",
    "\n",
    "#    Obtener una sub lista de 5 a 9 con saltos de 2 en 2\n",
    "#    Buscar si existe el nombre \"José\" en la lista original\n",
    "#    Ordenar la sub lista alfabéticamente a-z\n",
    "#    Ordenar la lista original alfabéticamente descendente z-a\n",
    "\n",
    "personas = [\"Ana\", \"Luis\", \"Carlos\", \"María\", \"José\", \"Elena\", \"Pedro\", \"Lucía\", \"Marta\", \"Diego\"]\n",
    "\n",
    "# 1. Obtener una sub lista de 5 a 9 con saltos de 2 en 2\n",
    "sublista = personas[5:10:2]\n",
    "print(\"Sublista (índices 5 al 9, salto de 2):\", sublista)\n",
    "\n",
    "# 2. Buscar si existe el nombre \"José\" en la lista original\n",
    "existe_jose = \"José\" in personas\n",
    "print(\"¿Está 'José' en la lista?:\", existe_jose)\n",
    "\n",
    "# 3. Ordenar la sub lista alfabéticamente a-z\n",
    "personas.sort()\n",
    "print(\"Sublista ordenada A-Z:\", personas)\n",
    "\n",
    "# 4. Ordenar la lista original alfabéticamente descendente z-a\n",
    "personas.sort(reverse=True)\n",
    "print(\"Lista original ordenada Z-A:\", personas)\n"
   ]
  },
  {
   "cell_type": "code",
   "execution_count": 5,
   "id": "e99db01f",
   "metadata": {},
   "outputs": [
    {
     "name": "stdout",
     "output_type": "stream",
     "text": [
      "Precio de Oreo: 2.5\n",
      "Precio de Chizitos: 1.2\n",
      "Más caro: Milka - 4.0\n",
      "Más barato: Mentas - 0.5\n",
      "Total de productos: 6\n",
      "Costo total: 12.7\n",
      "Productos ordenados por precio ascendente: ['Mentas', 'Chizitos', 'Galleta Animalitos', 'Oreo', 'Snickers', 'Milka']\n",
      "Precios ordenados: [0.5, 1.2, 1.5, 2.5, 3.0, 4.0]\n",
      "Listas vacías: [] []\n"
     ]
    }
   ],
   "source": [
    "# Una dulcería tiene 2 listas una con los productos y otra con los precios\n",
    "\n",
    "#    Agregar 2 productos nuevos al final de las listas\n",
    "#    Eliminar el producto con el nombre \"Bon Bon Bum\" de las listas\n",
    "#    ¿Cuánto cuesta el producto \"Oreo\" y \"Chizitos\"?\n",
    "#    ¿Cuál es el producto más caro y el más barato?\n",
    "#    ¿Cuántos productos tienes en total?\n",
    "#    ¿Cuanto cuestan todos los productos?\n",
    "#    Ordena los productos y precios del más barato al más caro\n",
    "#    Eliminar todos los productos de las listas\n",
    "\n",
    "# Listas iniciales\n",
    "productos = [\"Oreo\", \"Chizitos\", \"Bon Bon Bum\", \"Snickers\", \"Galleta Animalitos\"]\n",
    "precios = [2.5, 1.2, 0.8, 3.0, 1.5]\n",
    "\n",
    "# 1. Agregar 2 productos nuevos al final\n",
    "productos.append(\"Milka\")\n",
    "precios.append(4.0)\n",
    "\n",
    "productos.append(\"Mentas\")\n",
    "precios.append(0.5)\n",
    "\n",
    "# 2. Eliminar \"Bon Bon Bum\" de ambas listas (sin if)\n",
    "indice_bonbon = productos.index(\"Bon Bon Bum\")\n",
    "productos.pop(indice_bonbon)\n",
    "precios.pop(indice_bonbon)\n",
    "\n",
    "# 3. Precios de \"Oreo\" y \"Chizitos\"\n",
    "precio_oreo = precios[productos.index(\"Oreo\")]\n",
    "precio_chizitos = precios[productos.index(\"Chizitos\")]\n",
    "print(\"Precio de Oreo:\", precio_oreo)\n",
    "print(\"Precio de Chizitos:\", precio_chizitos)\n",
    "\n",
    "# 4. Producto más caro y más barato\n",
    "max_precio = max(precios)\n",
    "min_precio = min(precios)\n",
    "\n",
    "producto_caro = productos[precios.index(max_precio)]\n",
    "producto_barato = productos[precios.index(min_precio)]\n",
    "print(\"Más caro:\", producto_caro, \"-\", max_precio)\n",
    "print(\"Más barato:\", producto_barato, \"-\", min_precio)\n",
    "\n",
    "# 5. Cantidad total de productos\n",
    "print(\"Total de productos:\", len(productos))\n",
    "\n",
    "# 6. Costo total\n",
    "print(\"Costo total:\", sum(precios))\n",
    "\n",
    "# 7. Ordenar productos y precios del más barato al más caro\n",
    "orden = sorted(zip(precios, productos))\n",
    "precios = [orden[0][0], orden[1][0], orden[2][0], orden[3][0], orden[4][0], orden[5][0]]\n",
    "productos = [orden[0][1], orden[1][1], orden[2][1], orden[3][1], orden[4][1], orden[5][1]]\n",
    "\n",
    "print(\"Productos ordenados por precio ascendente:\", productos)\n",
    "print(\"Precios ordenados:\", precios)\n",
    "\n",
    "# 8. Eliminar todos los productos\n",
    "productos.clear()\n",
    "precios.clear()\n",
    "\n",
    "print(\"Listas vacías:\", productos, precios)\n"
   ]
  }
 ],
 "metadata": {
  "kernelspec": {
   "display_name": "Python 3",
   "language": "python",
   "name": "python3"
  },
  "language_info": {
   "codemirror_mode": {
    "name": "ipython",
    "version": 3
   },
   "file_extension": ".py",
   "mimetype": "text/x-python",
   "name": "python",
   "nbconvert_exporter": "python",
   "pygments_lexer": "ipython3",
   "version": "3.10.1"
  }
 },
 "nbformat": 4,
 "nbformat_minor": 5
}
