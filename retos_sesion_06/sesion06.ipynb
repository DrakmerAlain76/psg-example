{
 "cells": [
  {
   "cell_type": "code",
   "execution_count": null,
   "id": "ae5641c8",
   "metadata": {},
   "outputs": [],
   "source": [
    "#1 ¿Si se declara una variable boolean del valor 0.0000000001 es True o False?\n",
    "print(\"Respuesta: El valor 0.0000000001 al convertirse a booleano es True.\")\n",
    "var_booleana = bool(0.0000000001)\n",
    "print (var_booleana)"
   ]
  },
  {
   "cell_type": "code",
   "execution_count": null,
   "id": "b31a7d0b",
   "metadata": {},
   "outputs": [],
   "source": [
    "#2 Construir el operador XNOR en Python\n",
    "\n",
    "a = True\n",
    "b = False\n",
    "xnor = (a and b) or (not a and not b)\n",
    "print(\"2 Construir el operador XNOR en Python\")\n",
    "print(f\"A: {a}, B: {b}, A XNOR B: {xnor}\")"
   ]
  },
  {
   "cell_type": "code",
   "execution_count": null,
   "id": "13cca5f9",
   "metadata": {},
   "outputs": [],
   "source": [
    "# 3 Imprime una tabla de verdad para la siguiente sentencia: \n",
    "# \"Un sistema de seguridad controla el acceso a una habitación, \n",
    "# la puerta sólo se abre si se introduce una tarjeta válida o la huella dactilar, \n",
    "# pero no ambas al mismo tiempo. Si se introduce la tarjeta y la huella dactilar, \n",
    "# la puerta no se abre. ¿Qué operador lógico se puede utilizar?\"\n",
    "print(\"Tabla de verdad - Acceso con tarjeta XOR huella (solo uno de los dos):\")\n",
    "print(\"Tarjeta\\tHuella\\tPuerta\")\n",
    "\n",
    "# Combinación 1\n",
    "tarjeta = 0\n",
    "huella = 0\n",
    "puerta = (tarjeta and not huella) or (not tarjeta and huella)\n",
    "print(f\"{tarjeta}\\t{huella}\\t{puerta}\")\n",
    "\n",
    "# Combinación 2\n",
    "tarjeta = 0\n",
    "huella = 1\n",
    "puerta = (tarjeta and not huella) or (not tarjeta and huella)\n",
    "print(f\"{tarjeta}\\t{huella}\\t{puerta}\")\n",
    "\n",
    "# Combinación 3\n",
    "tarjeta = 1\n",
    "huella = 0\n",
    "puerta = (tarjeta and not huella) or (not tarjeta and huella)\n",
    "print(f\"{tarjeta}\\t{huella}\\t{puerta}\")\n",
    "\n",
    "# Combinación 4\n",
    "tarjeta = 1\n",
    "huella = 1\n",
    "puerta = (tarjeta and not huella) or (not tarjeta and huella)\n",
    "print(f\"{tarjeta}\\t{huella}\\t{puerta}\")\n",
    "\n",
    "print(\"\\nEl operador lógico que se puede utilizar es el XOR (^).\")\n"
   ]
  },
  {
   "cell_type": "code",
   "execution_count": null,
   "id": "8539da1d",
   "metadata": {},
   "outputs": [],
   "source": [
    "# 4 La resta de los números 17 y 9 es un número par?\n",
    "resta = 17 - 9\n",
    "es_par = (resta % 2 == 0)  # True si el residuo de dividir entre 2 es 0\n",
    "print(\"¿La resta es un número par?\", es_par)\n"
   ]
  },
  {
   "cell_type": "code",
   "execution_count": null,
   "id": "d6bb439d",
   "metadata": {},
   "outputs": [],
   "source": [
    "#5 Comparar los números 44 y 98 , 111 y 333 , comprobar si tienen la misma paridad ambos pares o ambos impares\n",
    "\n",
    "# Comparar paridad entre 44 y 98\n",
    "mismo_paridad_1 = (44 % 2) == (98 % 2)\n",
    "\n",
    "# Comparar paridad entre 111 y 333\n",
    "mismo_paridad_2 = (111 % 2) == (333 % 2)\n",
    "\n",
    "print(\"¿44 y 98 tienen la misma paridad?\", mismo_paridad_1)\n",
    "print(\"¿111 y 333 tienen la misma paridad?\", mismo_paridad_2)\n",
    "\n"
   ]
  },
  {
   "cell_type": "code",
   "execution_count": null,
   "id": "5267b3a7",
   "metadata": {},
   "outputs": [],
   "source": [
    "#6 ¿El cubo de 300 se encuentra en el siguiente rango? [N > 0 & N < 27_000_000]\n",
    "\n",
    "cubo = 300 ** 3  # Elevamos al cubo\n",
    "en_rango = cubo > 0 and cubo < 27_000_000  # Verificamos si está dentro del rango\n",
    "print(\"¿El cubo de 300 está en el rango (0, 27_000_000)?\", en_rango)\n"
   ]
  },
  {
   "cell_type": "code",
   "execution_count": null,
   "id": "4afe3032",
   "metadata": {},
   "outputs": [],
   "source": [
    "# 7 ¿El cuadrado y la suma de 2 y 2 son iguales?\n",
    "numero = 2 \n",
    "cuadrado_numero = numero ** 2\n",
    "suma = 2 + 2\n",
    "\n",
    "# Comparar si son iguales\n",
    "resultado = cuadrado_numero == suma\n",
    "print(\"¿El cuadrado y la suma de 2 y 2 son iguales?\", resultado)\n"
   ]
  }
 ],
 "metadata": {
  "language_info": {
   "name": "python"
  }
 },
 "nbformat": 4,
 "nbformat_minor": 5
}
