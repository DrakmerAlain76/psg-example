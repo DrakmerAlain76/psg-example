{
 "cells": [
  {
   "cell_type": "code",
   "execution_count": 1,
   "id": "1cb539aa",
   "metadata": {},
   "outputs": [
    {
     "name": "stdout",
     "output_type": "stream",
     "text": [
      "Inicio\n",
      "Cumple condición\n",
      "Fin\n"
     ]
    }
   ],
   "source": [
    "print (\"Inicio\")\n",
    "condicion = True\n",
    "if condicion:\n",
    "    # Bloque de código\n",
    "    print (\"Cumple condición\")\n",
    "print (\"Fin\")"
   ]
  },
  {
   "cell_type": "code",
   "execution_count": 2,
   "id": "77ec409b",
   "metadata": {},
   "outputs": [
    {
     "name": "stdout",
     "output_type": "stream",
     "text": [
      "Inicio\n",
      "El número es par\n",
      "Fin\n"
     ]
    }
   ],
   "source": [
    "print (\"Inicio\")\n",
    "numero = 4\n",
    "if numero % 2 == 0: # Si el módulo de 2 es 0\n",
    "    print (\"El número es par\")\n",
    "print (\"Fin\")"
   ]
  },
  {
   "cell_type": "code",
   "execution_count": 3,
   "id": "2c478f19",
   "metadata": {},
   "outputs": [
    {
     "name": "stdout",
     "output_type": "stream",
     "text": [
      "Inicio\n",
      "No cumple condición\n",
      "Fin\n"
     ]
    }
   ],
   "source": [
    "print (\"Inicio\")\n",
    "condicion = False\n",
    "if condicion:\n",
    "    # Bloque de código\n",
    "    print (\"Cumple condición\")\n",
    "else:\n",
    "    # Bloque de código\n",
    "    print (\"No cumple condición\")\n",
    "print (\"Fin\")"
   ]
  },
  {
   "cell_type": "code",
   "execution_count": 4,
   "id": "e0b5e674",
   "metadata": {},
   "outputs": [
    {
     "name": "stdout",
     "output_type": "stream",
     "text": [
      "Inicio\n",
      "El número es impar\n",
      "Fin\n"
     ]
    }
   ],
   "source": [
    "print (\"Inicio\")\n",
    "numero = 3\n",
    "if numero % 2 == 0: # Si el módulo de 2 es 0\n",
    "    print (\"El número es par\")\n",
    "else:\n",
    "    print (\"El número es impar\")\n",
    "print (\"Fin\")"
   ]
  },
  {
   "cell_type": "code",
   "execution_count": 5,
   "id": "46704b3c",
   "metadata": {},
   "outputs": [
    {
     "name": "stdout",
     "output_type": "stream",
     "text": [
      "Inicio Anidado\n",
      "Cumple condición 1\n",
      "No cumple condición 2\n",
      "Fin\n",
      "Inicio Par, Impar o Cero\n",
      "El número es cero\n",
      "Fin\n"
     ]
    }
   ],
   "source": [
    "print (\"Inicio Anidado\")\n",
    "condicion_1 = True\n",
    "condicion_2 = False\n",
    "if condicion_1:\n",
    "    print (\"Cumple condición 1\")\n",
    "    if condicion_2:\n",
    "        print (\"Cumple condición 2\")\n",
    "    else:\n",
    "        print (\"No cumple condición 2\")\n",
    "else:\n",
    "    print (\"No cumple condición 1\")\n",
    "print (\"Fin\")\n",
    "\n",
    "print (\"Inicio Par, Impar o Cero\")\n",
    "numero = 0  \n",
    "if numero > 0 or numero < 0:\n",
    "    if numero % 2 == 0: # Si el módulo de 2 es 0\n",
    "        print (\"El número es par\")\n",
    "    else:\n",
    "        print (\"El número es impar\")\n",
    "else:\n",
    "    print (\"El número es cero\")\n",
    "print (\"Fin\")"
   ]
  },
  {
   "cell_type": "code",
   "execution_count": 6,
   "id": "5d62393e",
   "metadata": {},
   "outputs": [
    {
     "name": "stdout",
     "output_type": "stream",
     "text": [
      "Inicio Par, Impar o Cero\n",
      "El número es cero\n",
      "Fin\n"
     ]
    }
   ],
   "source": [
    "print (\"Inicio Par, Impar o Cero\")\n",
    "numero = 0  \n",
    "if numero != 0 or numero < -1:\n",
    "    if numero % 2 == 0: # Si el módulo de 2 es 0\n",
    "        print (\"El número es par\")\n",
    "    else:\n",
    "        print (\"El número es impar\")\n",
    "else:\n",
    "    print (\"El número es cero\")\n",
    "print (\"Fin\")"
   ]
  },
  {
   "cell_type": "code",
   "execution_count": 7,
   "id": "dd242742",
   "metadata": {},
   "outputs": [
    {
     "name": "stdout",
     "output_type": "stream",
     "text": [
      "Inicio ELIF\n",
      "Cumple condición 2\n",
      "Fin\n",
      "Inicio Positivo, Negativo o Cero\n",
      "El número es negativo\n"
     ]
    }
   ],
   "source": [
    "print (\"Inicio ELIF\")\n",
    "condicion_1 = False\n",
    "condicion_2 = True\n",
    "if condicion_1:\n",
    "    print (\"Cumple condición 1\")\n",
    "elif condicion_2:\n",
    "    print (\"Cumple condición 2\")\n",
    "else:\n",
    "    print (\"No cumple condición 1 ni 2\")\n",
    "print (\"Fin\")\n",
    "\n",
    "print (\"Inicio Positivo, Negativo o Cero\")\n",
    "numero = -1\n",
    "if numero > 0:\n",
    "    print (\"El número es positivo\")\n",
    "elif numero < 0:\n",
    "    print (\"El número es negativo\")\n",
    "else:\n",
    "    print (\"El número es cero\")"
   ]
  },
  {
   "cell_type": "code",
   "execution_count": 8,
   "id": "426af897",
   "metadata": {},
   "outputs": [
    {
     "name": "stdout",
     "output_type": "stream",
     "text": [
      "Ver si un numero es par e impar o cero\n",
      "Es par\n"
     ]
    }
   ],
   "source": [
    "print (\"Ver si un numero es par e impar o cero\")\n",
    "numero = 8\n",
    "if numero == 0:\n",
    "    print (\"Es cero\")\n",
    "elif numero % 2 != 0:\n",
    "    print (\"Es impar\")\n",
    "else:\n",
    "    print (\"Es par\")"
   ]
  },
  {
   "cell_type": "code",
   "execution_count": 9,
   "id": "72e3a01d",
   "metadata": {},
   "outputs": [
    {
     "name": "stdout",
     "output_type": "stream",
     "text": [
      "Inicio Ternario\n",
      "No cumple\n",
      "Fin\n"
     ]
    }
   ],
   "source": [
    "print (\"Inicio Ternario\")\n",
    "condicion = False\n",
    "resultado = \"Cumple\" if condicion else \"No cumple\"\n",
    "print (resultado)\n",
    "print (\"Fin\")"
   ]
  },
  {
   "cell_type": "code",
   "execution_count": 10,
   "id": "55fd660a",
   "metadata": {},
   "outputs": [
    {
     "name": "stdout",
     "output_type": "stream",
     "text": [
      "Inicio Ternario Par, Impar\n",
      "El número es impar\n",
      "Fin\n"
     ]
    }
   ],
   "source": [
    "print (\"Inicio Ternario Par, Impar\")\n",
    "numero = 3\n",
    "resultado = \"El número es par\" if numero % 2 == 0 else \"El número es impar\"\n",
    "print (resultado)\n",
    "print (\"Fin\")"
   ]
  },
  {
   "cell_type": "code",
   "execution_count": 11,
   "id": "4a7e4ac4",
   "metadata": {},
   "outputs": [
    {
     "name": "stdout",
     "output_type": "stream",
     "text": [
      "Inicio Ternario Par, Impar\n",
      "Es par\n",
      "Fin\n"
     ]
    }
   ],
   "source": [
    "print (\"Inicio Ternario Par, Impar\")\n",
    "num = 8\n",
    "res = \"Es impar\" if num % 2 != 0 else \"Es par\"\n",
    "print (res)\n",
    "print (\"Fin\")"
   ]
  },
  {
   "cell_type": "code",
   "execution_count": 12,
   "id": "d911cf11",
   "metadata": {},
   "outputs": [
    {
     "name": "stdout",
     "output_type": "stream",
     "text": [
      "Inicio Ternario Par, Impar\n",
      "El número es impar\n",
      "Fin\n"
     ]
    }
   ],
   "source": [
    "print(\"Inicio Ternario Par, Impar\")\n",
    "numero = 3\n",
    "resultado = (\n",
    "    \"El número es par\"\n",
    "    if numero % 2 == 0\n",
    "    else \"El número es impar\"\n",
    ")\n",
    "print(resultado)\n",
    "print(\"Fin\")"
   ]
  },
  {
   "cell_type": "code",
   "execution_count": 13,
   "id": "dc3ad818",
   "metadata": {},
   "outputs": [
    {
     "name": "stdout",
     "output_type": "stream",
     "text": [
      "Inicio Ternario Par, Impar\n",
      "El número es impar\n",
      "Fin\n"
     ]
    }
   ],
   "source": [
    "print(\"Inicio Ternario Par, Impar\")\n",
    "m1 =  \"El número es par\"\n",
    "m2 = \"El número es impar\"\n",
    "numero = 3\n",
    "resultado = m1 if numero % 2 == 0 else m2\n",
    "\n",
    "print(resultado)\n",
    "print(\"Fin\")"
   ]
  },
  {
   "cell_type": "code",
   "execution_count": 14,
   "id": "8a5c164e",
   "metadata": {},
   "outputs": [
    {
     "name": "stdout",
     "output_type": "stream",
     "text": [
      "Truthiness Enteros\n"
     ]
    },
    {
     "ename": "ValueError",
     "evalue": "invalid literal for int() with base 10: ''",
     "output_type": "error",
     "traceback": [
      "\u001b[1;31m---------------------------------------------------------------------------\u001b[0m",
      "\u001b[1;31mValueError\u001b[0m                                Traceback (most recent call last)",
      "Input \u001b[1;32mIn [14]\u001b[0m, in \u001b[0;36m<cell line: 2>\u001b[1;34m()\u001b[0m\n\u001b[0;32m      1\u001b[0m \u001b[38;5;28mprint\u001b[39m (\u001b[38;5;124m\"\u001b[39m\u001b[38;5;124mTruthiness Enteros\u001b[39m\u001b[38;5;124m\"\u001b[39m)\n\u001b[1;32m----> 2\u001b[0m dividendo \u001b[38;5;241m=\u001b[39m \u001b[38;5;28;43mint\u001b[39;49m\u001b[43m(\u001b[49m\u001b[38;5;28;43minput\u001b[39;49m\u001b[43m(\u001b[49m\u001b[38;5;124;43m\"\u001b[39;49m\u001b[38;5;124;43mDividendo: \u001b[39;49m\u001b[38;5;124;43m\"\u001b[39;49m\u001b[43m)\u001b[49m\u001b[43m)\u001b[49m\n\u001b[0;32m      3\u001b[0m divisor \u001b[38;5;241m=\u001b[39m \u001b[38;5;28mint\u001b[39m(\u001b[38;5;28minput\u001b[39m(\u001b[38;5;124m\"\u001b[39m\u001b[38;5;124mDivisor: \u001b[39m\u001b[38;5;124m\"\u001b[39m))\n\u001b[0;32m      4\u001b[0m \u001b[38;5;28mprint\u001b[39m (dividendo,divisor)\n",
      "\u001b[1;31mValueError\u001b[0m: invalid literal for int() with base 10: ''"
     ]
    }
   ],
   "source": [
    "print (\"Truthiness Enteros\")\n",
    "dividendo = int(input(\"Dividendo: \"))\n",
    "divisor = int(input(\"Divisor: \"))\n",
    "print (dividendo,divisor)\n",
    "if divisor: #divisor != 0\n",
    "    print (dividendo / divisor)\n",
    "else:\n",
    "    print (\"No se puede dividir entre cero\")\n",
    "print (\"Fin\")"
   ]
  },
  {
   "cell_type": "code",
   "execution_count": null,
   "id": "ab9a0ab1",
   "metadata": {},
   "outputs": [],
   "source": [
    "print (\"Truthiness Flotantes\")\n",
    "dividendo = float(input(\"Dividendo: \"))\n",
    "divisor = float(input(\"Divisor: \"))\n",
    "print (dividendo,divisor)\n",
    "if divisor: #divisor != 0.0\n",
    "    print (dividendo / divisor)\n",
    "else:\n",
    "    print (\"No se puede dividir entre cero\")\n",
    "print (\"Fin\")"
   ]
  },
  {
   "cell_type": "code",
   "execution_count": null,
   "id": "df92554e",
   "metadata": {},
   "outputs": [],
   "source": [
    "print (\"Truthiness Cadenas\")\n",
    "cadena = input(\"Cadena: \")\n",
    "print (cadena)\n",
    "if cadena: # len(cadena) != 0 or cadena != \"\" \n",
    "    print (\"La cadena no está vacía\")\n",
    "else:\n",
    "    print (\"La cadena está vacía\")\n",
    "print (\"Fin\")"
   ]
  },
  {
   "cell_type": "code",
   "execution_count": null,
   "id": "e95097eb",
   "metadata": {},
   "outputs": [],
   "source": [
    "print (\"Truthiness Tuplas\")\n",
    "tupla = tuple(input(\"Tupla: \"))\n",
    "print (tupla)\n",
    "if tupla: # len(tupla) != 0 or tupla != ()\n",
    "    print (\"La tupla no está vacía\")\n",
    "else:\n",
    "    print (\"La tupla está vacía\")\n",
    "print (\"Fin\")"
   ]
  },
  {
   "cell_type": "code",
   "execution_count": null,
   "id": "a36feb9f",
   "metadata": {},
   "outputs": [],
   "source": [
    "print (\"Truthiness Listas\")\n",
    "lista = list(input(\"Lista: \"))\n",
    "print (lista)\n",
    "if lista: # len(lista) != 0 or lista != []\n",
    "    print (\"La lista no está vacía\")\n",
    "else:\n",
    "    print (\"La lista está vacía\")\n",
    "print (\"Fin\")"
   ]
  },
  {
   "cell_type": "code",
   "execution_count": null,
   "id": "316c0161",
   "metadata": {},
   "outputs": [],
   "source": [
    "print (\"Truthiness Conjuntos\")\n",
    "conjunto = set(input(\"Conjunto: \"))\n",
    "print (conjunto)\n",
    "if conjunto: # len(conjunto) != 0 or conjunto != set()\n",
    "    print (\"El conjunto no está vacío\")\n",
    "else:\n",
    "    print (\"El conjunto está vacío\")\n",
    "print (\"Fin\")"
   ]
  },
  {
   "cell_type": "code",
   "execution_count": null,
   "id": "5038b718",
   "metadata": {},
   "outputs": [],
   "source": [
    "print (\"Truthiness Diccionarios\")\n",
    "diccionario = {}\n",
    "clave = input(\"Clave: \")\n",
    "valor = input(\"Valor: \")\n",
    "if clave:\n",
    "  diccionario = {clave:valor}\n",
    "print (diccionario)\n",
    "if diccionario: # diccionario != {}\n",
    "    print (\"El diccionario no está vacío\")\n",
    "else:\n",
    "    print (\"El diccionario está vacío\")\n",
    "print (\"Fin\")"
   ]
  },
  {
   "cell_type": "code",
   "execution_count": null,
   "id": "5e3d774f",
   "metadata": {},
   "outputs": [],
   "source": [
    "print (\"Truthiness None\")\n",
    "valor = None\n",
    "print (valor, type(valor))\n",
    "if valor: # valor != None\n",
    "    print (\"El valor no es None\")\n",
    "else:\n",
    "    print (\"El valor es None\")\n",
    "print (\"Fin\")"
   ]
  },
  {
   "cell_type": "code",
   "execution_count": null,
   "id": "7f1a56d7",
   "metadata": {},
   "outputs": [],
   "source": [
    "entero = int(input(\"Entero: \"))\n",
    "resultado = \"Diferente de 0\" if entero else \"Igual a 0\"\n",
    "print (resultado)\n",
    "flotante = float(input(\"Flotante: \"))\n",
    "resultado = \"Diferente de 0.0\" if flotante else \"Igual a 0.0\"\n",
    "print (resultado)\n",
    "cadena = input(\"Cadena: \")\n",
    "resultado = \"No está vacía\" if cadena else \"Está vacía\"\n",
    "print (resultado)"
   ]
  },
  {
   "cell_type": "code",
   "execution_count": null,
   "id": "06a71cff",
   "metadata": {},
   "outputs": [],
   "source": [
    "temperatura = int(input(\"Temperatura: \"))\n",
    "if temperatura > 30:\n",
    "    print (\"Encender ventilador\")\n",
    "elif temperatura < 20:\n",
    "    print (\"Apagar ventilador\")\n",
    "\n",
    "\n",
    "t = int(input(\"Temperatura: \"))\n",
    "if t > 30:\n",
    "    print (\"ventilador encendido\")\n",
    "elif t < 20:\n",
    "    print (\"ventilador apagado\")\n"
   ]
  },
  {
   "cell_type": "code",
   "execution_count": null,
   "id": "7a5f5a2a",
   "metadata": {},
   "outputs": [],
   "source": [
    "cesta = ['🍑','🍓','🍉']\n",
    "print (cesta)\n",
    "resultado = f\"Hay {cesta.count('🍎')} manzanas\" if '🍎' in cesta else cesta.extend(['🍎','🍎'])\n",
    "print (resultado)\n",
    "print (cesta)\n",
    "\n",
    "cesta = ['🍎','🍑','🍓','🍉']\n",
    "print (cesta)\n",
    "if '🍎' in cesta:\n",
    "    print (f\"Hay {cesta.count('🍎')} manzanas\")\n",
    "else:\n",
    "    cesta.extend(['🍎','🍎'])\n",
    "    print (cesta)"
   ]
  }
 ],
 "metadata": {
  "kernelspec": {
   "display_name": "Python 3",
   "language": "python",
   "name": "python3"
  },
  "language_info": {
   "codemirror_mode": {
    "name": "ipython",
    "version": 3
   },
   "file_extension": ".py",
   "mimetype": "text/x-python",
   "name": "python",
   "nbconvert_exporter": "python",
   "pygments_lexer": "ipython3",
   "version": "3.10.1"
  }
 },
 "nbformat": 4,
 "nbformat_minor": 5
}
