{
 "cells": [
  {
   "cell_type": "code",
   "execution_count": null,
   "id": "1cb539aa",
   "metadata": {},
   "outputs": [],
   "source": [
    "primero = 1\n",
    "segundo = 2\n",
    "tercero = 3"
   ]
  },
  {
   "cell_type": "code",
   "execution_count": null,
   "id": "4e45b470",
   "metadata": {},
   "outputs": [],
   "source": [
    "print (\"Inicio\")\n",
    "condicion = True\n",
    "if condicion:\n",
    "    # Bloque de código\n",
    "    print (\"Cumple condición\")\n",
    "print (\"Fin\")"
   ]
  },
  {
   "cell_type": "code",
   "execution_count": null,
   "id": "199588fd",
   "metadata": {},
   "outputs": [],
   "source": [
    "if condicion:\n",
    "    print (\"Cumple\")"
   ]
  },
  {
   "cell_type": "code",
   "execution_count": null,
   "id": "27ac7637",
   "metadata": {},
   "outputs": [],
   "source": [
    "print (\"Inicio\")\n",
    "condicion = True\n",
    "if condicion:\n",
    "    # Bloque de código\n",
    "    print (\"Cumple condición\")\n",
    "print (\"Fin\")"
   ]
  },
  {
   "cell_type": "code",
   "execution_count": null,
   "id": "114dc6a1",
   "metadata": {},
   "outputs": [],
   "source": [
    "Inicio\n",
    "Cumple condición\n",
    "Fin"
   ]
  },
  {
   "cell_type": "code",
   "execution_count": null,
   "id": "77ec409b",
   "metadata": {},
   "outputs": [],
   "source": [
    "print (\"Inicio\")\n",
    "numero = 4\n",
    "if numero % 2 == 0: # Si el módulo de 2 es 0\n",
    "    print (\"El número es par\")\n",
    "print (\"Fin\")"
   ]
  },
  {
   "cell_type": "code",
   "execution_count": null,
   "id": "3abc7e06",
   "metadata": {},
   "outputs": [],
   "source": [
    "Inicio\n",
    "El número es par\n",
    "Fin"
   ]
  },
  {
   "cell_type": "code",
   "execution_count": null,
   "id": "fcc5ac10",
   "metadata": {},
   "outputs": [],
   "source": [
    "if condicion:\n",
    "    print (\"Cumple\")\n",
    "else:\n",
    "    print (\"No cumple\")"
   ]
  },
  {
   "cell_type": "code",
   "execution_count": null,
   "id": "2c478f19",
   "metadata": {},
   "outputs": [],
   "source": [
    "print (\"Inicio\")\n",
    "condicion = False\n",
    "if condicion:\n",
    "    # Bloque de código\n",
    "    print (\"Cumple condición\")\n",
    "else:\n",
    "    # Bloque de código\n",
    "    print (\"No cumple condición\")\n",
    "print (\"Fin\")"
   ]
  },
  {
   "cell_type": "code",
   "execution_count": null,
   "id": "0eae4bf5",
   "metadata": {},
   "outputs": [],
   "source": [
    "Inicio\n",
    "No cumple condición\n",
    "Fin"
   ]
  },
  {
   "cell_type": "code",
   "execution_count": null,
   "id": "e0b5e674",
   "metadata": {},
   "outputs": [],
   "source": [
    "print (\"Inicio\")\n",
    "numero = 3\n",
    "if numero % 2 == 0: # Si el módulo de 2 es 0\n",
    "    print (\"El número es par\")\n",
    "else:\n",
    "    print (\"El número es impar\")\n",
    "print (\"Fin\")"
   ]
  },
  {
   "cell_type": "code",
   "execution_count": null,
   "id": "249afcf2",
   "metadata": {},
   "outputs": [],
   "source": [
    "Inicio\n",
    "El número es impar\n",
    "Fin"
   ]
  },
  {
   "cell_type": "code",
   "execution_count": null,
   "id": "bb54b275",
   "metadata": {},
   "outputs": [],
   "source": [
    "if condicion_1:\n",
    "    print (\"Cumple 1\")\n",
    "    if condicion_2:\n",
    "        print (\"Cumple 2\")\n",
    "    else:\n",
    "        print (\"No cumple 2\")\n",
    "else:\n",
    "    print (\"No cumple 1\")"
   ]
  },
  {
   "cell_type": "code",
   "execution_count": null,
   "id": "46704b3c",
   "metadata": {},
   "outputs": [],
   "source": [
    "print (\"Inicio Anidado\")\n",
    "condicion_1 = True\n",
    "condicion_2 = False\n",
    "if condicion_1:\n",
    "    print (\"Cumple condición 1\")\n",
    "    if condicion_2:\n",
    "        print (\"Cumple condición 2\")\n",
    "    else:\n",
    "        print (\"No cumple condición 2\")\n",
    "else:\n",
    "    print (\"No cumple condición 1\")\n",
    "print (\"Fin\")\n",
    "\n",
    "print (\"Inicio Par, Impar o Cero\")\n",
    "numero = 0  \n",
    "if numero > 0 or numero < 0:\n",
    "    if numero % 2 == 0: # Si el módulo de 2 es 0\n",
    "        print (\"El número es par\")\n",
    "    else:\n",
    "        print (\"El número es impar\")\n",
    "else:\n",
    "    print (\"El número es cero\")\n",
    "print (\"Fin\")"
   ]
  },
  {
   "cell_type": "code",
   "execution_count": null,
   "id": "ce2be497",
   "metadata": {},
   "outputs": [],
   "source": [
    "Inicio Anidado\n",
    "Cumple condición 1\n",
    "No cumple condición 2\n",
    "Fin"
   ]
  },
  {
   "cell_type": "code",
   "execution_count": null,
   "id": "5d62393e",
   "metadata": {},
   "outputs": [],
   "source": [
    "print (\"Inicio Par, Impar o Cero\")\n",
    "numero = 0  \n",
    "if numero != 0 or numero < -1:\n",
    "    if numero % 2 == 0: # Si el módulo de 2 es 0\n",
    "        print (\"El número es par\")\n",
    "    else:\n",
    "        print (\"El número es impar\")\n",
    "else:\n",
    "    print (\"El número es cero\")\n",
    "print (\"Fin\")"
   ]
  },
  {
   "cell_type": "code",
   "execution_count": null,
   "id": "428b4118",
   "metadata": {},
   "outputs": [],
   "source": [
    "Inicio Par, Impar o Cero\n",
    "El número es cero\n",
    "Fin"
   ]
  },
  {
   "cell_type": "code",
   "execution_count": null,
   "id": "3c2b9fc0",
   "metadata": {},
   "outputs": [],
   "source": [
    "if condicion_1:\n",
    "    print (\"Cumple 1\")\n",
    "elif condicion_2:\n",
    "    print (\"Cumple 2\")\n",
    "else:\n",
    "    print (\"No cumple 1 ni 2\")"
   ]
  },
  {
   "cell_type": "code",
   "execution_count": null,
   "id": "dd242742",
   "metadata": {},
   "outputs": [],
   "source": [
    "print (\"Inicio ELIF\")\n",
    "condicion_1 = False\n",
    "condicion_2 = True\n",
    "if condicion_1:\n",
    "    print (\"Cumple condición 1\")\n",
    "elif condicion_2:\n",
    "    print (\"Cumple condición 2\")\n",
    "else:\n",
    "    print (\"No cumple condición 1 ni 2\")\n",
    "print (\"Fin\")\n",
    "\n",
    "print (\"Inicio Positivo, Negativo o Cero\")\n",
    "numero = -1\n",
    "if numero > 0:\n",
    "    print (\"El número es positivo\")\n",
    "elif numero < 0:\n",
    "    print (\"El número es negativo\")\n",
    "else:\n",
    "    print (\"El número es cero\")"
   ]
  },
  {
   "cell_type": "code",
   "execution_count": null,
   "id": "b4708986",
   "metadata": {},
   "outputs": [],
   "source": [
    "Inicio ELIF\n",
    "Cumple condición 2\n",
    "Fin"
   ]
  },
  {
   "cell_type": "code",
   "execution_count": null,
   "id": "426af897",
   "metadata": {},
   "outputs": [],
   "source": [
    "print (\"Ver si un numero es par e impar o cero\")\n",
    "numero = 8\n",
    "if numero == 0:\n",
    "    print (\"Es cero\")\n",
    "elif numero % 2 != 0:\n",
    "    print (\"Es impar\")\n",
    "else:\n",
    "    print (\"Es par\")"
   ]
  },
  {
   "cell_type": "code",
   "execution_count": null,
   "id": "683c85cd",
   "metadata": {},
   "outputs": [],
   "source": [
    "Inicio Positivo, Negativo o Cero\n",
    "El número es negativo"
   ]
  },
  {
   "cell_type": "code",
   "execution_count": null,
   "id": "8f5b88fe",
   "metadata": {},
   "outputs": [],
   "source": [
    "resultado = verdadero if condicion else falso"
   ]
  },
  {
   "cell_type": "code",
   "execution_count": null,
   "id": "72e3a01d",
   "metadata": {},
   "outputs": [],
   "source": [
    "print (\"Inicio Ternario\")\n",
    "condicion = False\n",
    "resultado = \"Cumple\" if condicion else \"No cumple\"\n",
    "print (resultado)\n",
    "print (\"Fin\")"
   ]
  },
  {
   "cell_type": "code",
   "execution_count": null,
   "id": "aa9e68d6",
   "metadata": {},
   "outputs": [],
   "source": [
    "Inicio Ternario\n",
    "Cumple\n",
    "Fin"
   ]
  },
  {
   "cell_type": "code",
   "execution_count": null,
   "id": "55fd660a",
   "metadata": {},
   "outputs": [],
   "source": [
    "print (\"Inicio Ternario Par, Impar\")\n",
    "numero = 3\n",
    "resultado = \"El número es par\" if numero % 2 == 0 else \"El número es impar\"\n",
    "print (resultado)\n",
    "print (\"Fin\")"
   ]
  },
  {
   "cell_type": "code",
   "execution_count": null,
   "id": "16d4345d",
   "metadata": {},
   "outputs": [],
   "source": [
    "Inicio Ternario Par, Impar\n",
    "El número es impar\n",
    "Fin"
   ]
  },
  {
   "cell_type": "code",
   "execution_count": null,
   "id": "4a7e4ac4",
   "metadata": {},
   "outputs": [],
   "source": [
    "print (\"Inicio Ternario Par, Impar\")\n",
    "num = 8\n",
    "res = \"Es impar\" if num % 2 != 0 else \"Es par\"\n",
    "print (res)\n",
    "print (\"Fin\")"
   ]
  },
  {
   "cell_type": "code",
   "execution_count": null,
   "id": "d911cf11",
   "metadata": {},
   "outputs": [],
   "source": [
    "print(\"Inicio Ternario Par, Impar\")\n",
    "numero = 3\n",
    "resultado = (\n",
    "    \"El número es par\"\n",
    "    if numero % 2 == 0\n",
    "    else \"El número es impar\"\n",
    ")\n",
    "print(resultado)\n",
    "print(\"Fin\")"
   ]
  },
  {
   "cell_type": "code",
   "execution_count": null,
   "id": "dc3ad818",
   "metadata": {},
   "outputs": [],
   "source": [
    "print(\"Inicio Ternario Par, Impar\")\n",
    "m1 =  \"El número es par\"\n",
    "m2 = \"El número es impar\"\n",
    "numero = 3\n",
    "resultado = m1 if numero % 2 == 0 else m2\n",
    "\n",
    "print(resultado)\n",
    "print(\"Fin\")"
   ]
  },
  {
   "cell_type": "code",
   "execution_count": null,
   "id": "8a5c164e",
   "metadata": {},
   "outputs": [],
   "source": [
    "print (\"Truthiness Enteros\")\n",
    "dividendo = int(input(\"Dividendo: \"))\n",
    "divisor = int(input(\"Divisor: \"))\n",
    "print (dividendo,divisor)\n",
    "if divisor: #divisor != 0\n",
    "    print (dividendo / divisor)\n",
    "else:\n",
    "    print (\"No se puede dividir entre cero\")\n",
    "print (\"Fin\")"
   ]
  },
  {
   "cell_type": "code",
   "execution_count": null,
   "id": "d4433590",
   "metadata": {},
   "outputs": [],
   "source": [
    "Truthiness Enteros\n",
    "Dividendo: 10\n",
    "Divisor: 0\n",
    "10 0\n",
    "No se puede dividir entre cero\n",
    "Fin"
   ]
  },
  {
   "cell_type": "code",
   "execution_count": null,
   "id": "ab9a0ab1",
   "metadata": {},
   "outputs": [],
   "source": [
    "print (\"Truthiness Flotantes\")\n",
    "dividendo = float(input(\"Dividendo: \"))\n",
    "divisor = float(input(\"Divisor: \"))\n",
    "print (dividendo,divisor)\n",
    "if divisor: #divisor != 0.0\n",
    "    print (dividendo / divisor)\n",
    "else:\n",
    "    print (\"No se puede dividir entre cero\")\n",
    "print (\"Fin\")"
   ]
  },
  {
   "cell_type": "code",
   "execution_count": null,
   "id": "dffea5b3",
   "metadata": {},
   "outputs": [],
   "source": [
    "Truthiness Flotantes\n",
    "Dividendo: 10.5\n",
    "Divisor: 0.5\n",
    "10.0 0.5\n",
    "21.0\n",
    "Fin"
   ]
  },
  {
   "cell_type": "code",
   "execution_count": null,
   "id": "df92554e",
   "metadata": {},
   "outputs": [],
   "source": [
    "print (\"Truthiness Cadenas\")\n",
    "cadena = input(\"Cadena: \")\n",
    "print (cadena)\n",
    "if cadena: # len(cadena) != 0 or cadena != \"\" \n",
    "    print (\"La cadena no está vacía\")\n",
    "else:\n",
    "    print (\"La cadena está vacía\")\n",
    "print (\"Fin\")"
   ]
  },
  {
   "cell_type": "code",
   "execution_count": null,
   "id": "70111ef8",
   "metadata": {},
   "outputs": [],
   "source": [
    "Truthiness Cadenas\n",
    "Cadena: 🐍\n",
    "🐍\n",
    "La cadena no está vacía\n",
    "Fin"
   ]
  },
  {
   "cell_type": "code",
   "execution_count": null,
   "id": "e95097eb",
   "metadata": {},
   "outputs": [],
   "source": [
    "print (\"Truthiness Tuplas\")\n",
    "tupla = tuple(input(\"Tupla: \"))\n",
    "print (tupla)\n",
    "if tupla: # len(tupla) != 0 or tupla != ()\n",
    "    print (\"La tupla no está vacía\")\n",
    "else:\n",
    "    print (\"La tupla está vacía\")\n",
    "print (\"Fin\")"
   ]
  },
  {
   "cell_type": "code",
   "execution_count": null,
   "id": "28a4b57b",
   "metadata": {},
   "outputs": [],
   "source": [
    "Truthiness Tuplas\n",
    "Tupla: ♈♉♊♋\n",
    "('♈', '♉', '♊', '♋')\n",
    "La tupla no está vacía\n",
    "Fin"
   ]
  },
  {
   "cell_type": "code",
   "execution_count": null,
   "id": "a36feb9f",
   "metadata": {},
   "outputs": [],
   "source": [
    "print (\"Truthiness Listas\")\n",
    "lista = list(input(\"Lista: \"))\n",
    "print (lista)\n",
    "if lista: # len(lista) != 0 or lista != []\n",
    "    print (\"La lista no está vacía\")\n",
    "else:\n",
    "    print (\"La lista está vacía\")\n",
    "print (\"Fin\")"
   ]
  },
  {
   "cell_type": "code",
   "execution_count": null,
   "id": "d35ff91e",
   "metadata": {},
   "outputs": [],
   "source": [
    "Truthiness Listas\n",
    "Lista: ♌♍♎♏\n",
    "['♌', '♍', '♎', '♏']\n",
    "La lista no está vacía\n",
    "Fin"
   ]
  },
  {
   "cell_type": "code",
   "execution_count": null,
   "id": "316c0161",
   "metadata": {},
   "outputs": [],
   "source": [
    "print (\"Truthiness Conjuntos\")\n",
    "conjunto = set(input(\"Conjunto: \"))\n",
    "print (conjunto)\n",
    "if conjunto: # len(conjunto) != 0 or conjunto != set()\n",
    "    print (\"El conjunto no está vacío\")\n",
    "else:\n",
    "    print (\"El conjunto está vacío\")\n",
    "print (\"Fin\")"
   ]
  },
  {
   "cell_type": "code",
   "execution_count": null,
   "id": "537c0578",
   "metadata": {},
   "outputs": [],
   "source": [
    "Truthiness Conjuntos\n",
    "Conjunto: ♐♑♒♓\n",
    "{'♐', '♑', '♒', '♓'}\n",
    "El conjunto no está vacío\n",
    "Fin"
   ]
  },
  {
   "cell_type": "code",
   "execution_count": null,
   "id": "5038b718",
   "metadata": {},
   "outputs": [],
   "source": [
    "print (\"Truthiness Diccionarios\")\n",
    "diccionario = {}\n",
    "clave = input(\"Clave: \")\n",
    "valor = input(\"Valor: \")\n",
    "if clave:\n",
    "  diccionario = {clave:valor}\n",
    "print (diccionario)\n",
    "if diccionario: # diccionario != {}\n",
    "    print (\"El diccionario no está vacío\")\n",
    "else:\n",
    "    print (\"El diccionario está vacío\")\n",
    "print (\"Fin\")"
   ]
  },
  {
   "cell_type": "code",
   "execution_count": null,
   "id": "4736a610",
   "metadata": {},
   "outputs": [],
   "source": [
    "Truthiness Diccionarios\n",
    "Clave: ♈\n",
    "Valor: Aries\n",
    "{'♈': 'Aries'}\n",
    "El diccionario no está vacío\n",
    "Fin"
   ]
  },
  {
   "cell_type": "code",
   "execution_count": null,
   "id": "5e3d774f",
   "metadata": {},
   "outputs": [],
   "source": [
    "print (\"Truthiness None\")\n",
    "valor = None\n",
    "print (valor, type(valor))\n",
    "if valor: # valor != None\n",
    "    print (\"El valor no es None\")\n",
    "else:\n",
    "    print (\"El valor es None\")\n",
    "print (\"Fin\")"
   ]
  },
  {
   "cell_type": "code",
   "execution_count": null,
   "id": "4a4f1076",
   "metadata": {},
   "outputs": [],
   "source": [
    "Truthiness None\n",
    "None <class 'NoneType'>\n",
    "El valor es None\n",
    "Fin"
   ]
  },
  {
   "cell_type": "code",
   "execution_count": null,
   "id": "7f1a56d7",
   "metadata": {},
   "outputs": [],
   "source": [
    "entero = int(input(\"Entero: \"))\n",
    "resultado = \"Diferente de 0\" if entero else \"Igual a 0\"\n",
    "print (resultado)\n",
    "flotante = float(input(\"Flotante: \"))\n",
    "resultado = \"Diferente de 0.0\" if flotante else \"Igual a 0.0\"\n",
    "print (resultado)\n",
    "cadena = input(\"Cadena: \")\n",
    "resultado = \"No está vacía\" if cadena else \"Está vacía\"\n",
    "print (resultado)"
   ]
  },
  {
   "cell_type": "code",
   "execution_count": null,
   "id": "a1ea134c",
   "metadata": {},
   "outputs": [],
   "source": [
    "Entero: 0\n",
    "Igual a 0\n",
    "Flotante: 0.0\n",
    "Igual a 0.0\n",
    "Cadena:\n",
    "Está vacía"
   ]
  },
  {
   "cell_type": "code",
   "execution_count": null,
   "id": "06a71cff",
   "metadata": {},
   "outputs": [],
   "source": [
    "temperatura = int(input(\"Temperatura: \"))\n",
    "if temperatura > 30:\n",
    "    print (\"Encender ventilador\")\n",
    "elif temperatura < 20:\n",
    "    print (\"Apagar ventilador\")\n",
    "\n",
    "\n",
    "t = int(input(\"Temperatura: \"))\n",
    "if t > 30:\n",
    "    print (\"ventilador encendido\")\n",
    "elif t < 20:\n",
    "    print (\"ventilador apagado\")\n"
   ]
  },
  {
   "cell_type": "code",
   "execution_count": null,
   "id": "a1811a93",
   "metadata": {},
   "outputs": [],
   "source": [
    "Temperatura: 35\n",
    "Encender ventilador"
   ]
  },
  {
   "cell_type": "code",
   "execution_count": null,
   "id": "4f9e2b5a",
   "metadata": {},
   "outputs": [],
   "source": [
    "Temperatura: 15\n",
    "Apagar ventilador"
   ]
  },
  {
   "cell_type": "code",
   "execution_count": null,
   "id": "33ad51fa",
   "metadata": {},
   "outputs": [],
   "source": [
    "Temperatura: 25"
   ]
  },
  {
   "cell_type": "code",
   "execution_count": null,
   "id": "7a5f5a2a",
   "metadata": {},
   "outputs": [],
   "source": [
    "cesta = ['🍑','🍓','🍉']\n",
    "print (cesta)\n",
    "resultado = f\"Hay {cesta.count('🍎')} manzanas\" if '🍎' in cesta else cesta.extend(['🍎','🍎'])\n",
    "print (resultado)\n",
    "print (cesta)\n",
    "\n",
    "cesta = ['🍎','🍑','🍓','🍉']\n",
    "print (cesta)\n",
    "if '🍎' in cesta:\n",
    "    print (f\"Hay {cesta.count('🍎')} manzanas\")\n",
    "else:\n",
    "    cesta.extend(['🍎','🍎'])\n",
    "    print (cesta)"
   ]
  },
  {
   "cell_type": "code",
   "execution_count": null,
   "id": "5a17a60e",
   "metadata": {},
   "outputs": [],
   "source": [
    "['🍎', '🍑', '🍓', '🍉']\n",
    "Hay 1 manzanas"
   ]
  },
  {
   "cell_type": "code",
   "execution_count": null,
   "id": "1f914e61",
   "metadata": {},
   "outputs": [],
   "source": [
    "cesta = ['🍑','🍓','🍉']\n",
    "print (cesta)\n",
    "resultado = f\"Hay {cesta.count('🍎')} manzanas\" if '🍎' in cesta else cesta.extend(['🍎','🍎'])\n",
    "print (resultado)\n",
    "print (cesta)"
   ]
  },
  {
   "cell_type": "code",
   "execution_count": null,
   "id": "cf921105",
   "metadata": {},
   "outputs": [],
   "source": [
    "['🍑', '🍓', '🍉']\n",
    "None\n",
    "['🍑', '🍓', '🍉', '🍎', '🍎']"
   ]
  },
  {
   "cell_type": "code",
   "execution_count": null,
   "id": "8b2413e9",
   "metadata": {},
   "outputs": [],
   "source": [
    "animal = {'especie':'🐶', 'nombre': 'Firulais', 'mamifero': True}"
   ]
  },
  {
   "cell_type": "code",
   "execution_count": null,
   "id": "715f21e9",
   "metadata": {},
   "outputs": [],
   "source": [
    "animal = {'especie':'🐶', 'nombre': 'Firulais', 'mamifero': True}\n",
    "print (animal)\n",
    "if animal.get('mamifero'): # animal['mamifero']\n",
    "    print (\"Es un mamífero\")\n",
    "else:\n",
    "    print (\"No es un mamífero\")"
   ]
  },
  {
   "cell_type": "code",
   "execution_count": null,
   "id": "80053ce3",
   "metadata": {},
   "outputs": [],
   "source": [
    "{'especie': '🐶', 'nombre': 'Firulais', 'mamifero': True}\n",
    "Es un mamífero"
   ]
  },
  {
   "cell_type": "code",
   "execution_count": null,
   "id": "a25c05a7",
   "metadata": {},
   "outputs": [],
   "source": [
    "{'⚽','🏀','🏐'} , {'🏈','🏉','🏓'}"
   ]
  },
  {
   "cell_type": "code",
   "execution_count": null,
   "id": "823b955d",
   "metadata": {},
   "outputs": [],
   "source": [
    "conjunto_1 = {'⚽','🏀','🏐'}\n",
    "conjunto_2 = {'🏈','🏉','🏓'}\n",
    "print (conjunto_1, conjunto_2)\n",
    "if conjunto_1.isdisjoint(conjunto_2): # len(conjunto_1.intersection(conjunto_2)) == 0\n",
    "    conjunto_1.update(conjunto_2)\n",
    "    print (conjunto_1)\n",
    "else:\n",
    "    print (\"Tienen elementos en común\")\n",
    "    print (conjunto_1.intersection(conjunto_2))"
   ]
  },
  {
   "cell_type": "code",
   "execution_count": null,
   "id": "91ca017b",
   "metadata": {},
   "outputs": [],
   "source": [
    "{'⚽', '🏀', '🏐'} {'🏈', '🏉', '🏓'}\n",
    "{'⚽', '🏀', '🏐', '🏈', '🏉', '🏓'}"
   ]
  },
  {
   "cell_type": "code",
   "execution_count": null,
   "id": "f048d1e3",
   "metadata": {},
   "outputs": [],
   "source": [
    "{'⚽', '🏀', '🏐'} {'🏈', '🏉', '🏓', '🏀'}\n",
    "Tienen elementos en común\n",
    "{'🏀'}"
   ]
  },
  {
   "cell_type": "code",
   "execution_count": null,
   "id": "a6803b39",
   "metadata": {},
   "outputs": [],
   "source": [
    "correo = input(\"Correo: \")\n",
    "if \"@\" in correo and \".\" in correo and correo.count(\"@\") == 1:\n",
    "    if correo.find(\"@\") < correo.rfind(\".\") and correo.find(\"@\") > 0 and correo.rfind(\".\") < len(correo) - 1:\n",
    "        if correo.rfind(\".\") - correo.find(\"@\") > 1:\n",
    "            if correo.find(\".\") - correo.find(\"@\") > 1:\n",
    "                print (\"El correo es válido\")\n",
    "            else:\n",
    "                print (\"El correo no es válido\")\n",
    "        else:\n",
    "            print (\"El correo no es válido\")\n",
    "    else:\n",
    "        print (\"El correo no es válido\")\n",
    "else:\n",
    "    print (\"El correo no es válido\")"
   ]
  },
  {
   "cell_type": "code",
   "execution_count": null,
   "id": "c29d4a66",
   "metadata": {},
   "outputs": [],
   "source": [
    "Correo: mail@domain\n",
    "El correo no es válido"
   ]
  },
  {
   "cell_type": "code",
   "execution_count": null,
   "id": "9380ff40",
   "metadata": {},
   "outputs": [],
   "source": [
    "correo = input(\"Correo: \")\n",
    "if \"@\" not in correo or \".\" not in correo or correo.count(\"@\") != 1:\n",
    "    print(\"El correo no es válido\")\n",
    "elif correo.find(\"@\") >= correo.rfind(\".\") or correo.find(\"@\") == 0 or correo.rfind(\".\") == len(correo) - 1:\n",
    "    print(\"El correo no es válido\")\n",
    "elif correo.rfind(\".\") - correo.find(\"@\") <= 1:\n",
    "    print(\"El correo no es válido\")\n",
    "elif correo.find(\".\") - correo.find(\"@\") == 1:\n",
    "    print(\"El correo no es válido\")\n",
    "else:\n",
    "    print(\"El correo es válido\")"
   ]
  },
  {
   "cell_type": "code",
   "execution_count": null,
   "id": "8fe3c62d",
   "metadata": {},
   "outputs": [],
   "source": [
    "Correo: a.b@c.d\n",
    "El correo es válido"
   ]
  },
  {
   "cell_type": "code",
   "execution_count": null,
   "id": "0b894929",
   "metadata": {},
   "outputs": [],
   "source": [
    "git add .\n",
    "git commit -m \"Clase sesión 12\"\n",
    "git push"
   ]
  },
  {
   "cell_type": "code",
   "execution_count": null,
   "id": "93777cf5",
   "metadata": {},
   "outputs": [],
   "source": [
    "# Ejemplo carpeta \n",
    "psg-example/\n",
    "    retos_sesion_12/\n",
    "        ejercicio_01.py\n",
    "        ejercicio_02.py\n",
    "        ejercicio_03.py\n",
    "        ejercicio_04.py\n",
    "        ejercicio_05.py\n",
    "        ejercicio_06.py\n",
    "        sesion12.ipynb"
   ]
  }
 ],
 "metadata": {
  "kernelspec": {
   "display_name": "Python 3",
   "language": "python",
   "name": "python3"
  },
  "language_info": {
   "codemirror_mode": {
    "name": "ipython",
    "version": 3
   },
   "file_extension": ".py",
   "mimetype": "text/x-python",
   "name": "python",
   "nbconvert_exporter": "python",
   "pygments_lexer": "ipython3",
   "version": "3.10.1"
  }
 },
 "nbformat": 4,
 "nbformat_minor": 5
}
