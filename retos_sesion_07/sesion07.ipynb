{
 "cells": [
  {
   "cell_type": "code",
   "execution_count": null,
   "id": "ae5641c8",
   "metadata": {},
   "outputs": [],
   "source": [
    "# Escribir una cadena con una frase de una libro o un poema\n",
    "poema = \"Cuando el mar sea redondo y el sol deje de brillar, ese será el día en que te pueda olvidar.\"\n",
    "\n",
    "print(poema)\n"
   ]
  },
  {
   "cell_type": "code",
   "execution_count": null,
   "id": "3edaf0bc",
   "metadata": {},
   "outputs": [],
   "source": [
    "# 2 Escribe un programa que reciba tres enteros por teclado y reste su resultado\n",
    "\n",
    "num1 = int(input(\"Ingresa el primer número entero: \"))\n",
    "num2 = int(input(\"Ingresa el segundo número entero: \"))\n",
    "num3 = int(input(\"Ingresa el tercer número entero: \"))\n",
    "\n",
    "resultado = num1 - num2 - num3\n",
    "\n",
    "print(\"El resultado de la resta es:\", resultado)\n"
   ]
  },
  {
   "cell_type": "code",
   "execution_count": null,
   "id": "f5e7b8e9",
   "metadata": {},
   "outputs": [],
   "source": [
    "# De la palabra \"casas\" mostrar solo los caracteres con índice par\n",
    "palabra = \"casas\"\n",
    "\n",
    "caracteres_pares = palabra[::2]\n",
    "\n",
    "print(\"Caracteres en índices pares:\", caracteres_pares)\n",
    "\n"
   ]
  },
  {
   "cell_type": "code",
   "execution_count": null,
   "id": "8d29ef1a",
   "metadata": {},
   "outputs": [],
   "source": [
    "# 4 Invierte la siguiente palabra \"electroencefalografista\"\n",
    "\n",
    "palabra = \"electroencefalografista\"\n",
    "palabra_invertida = palabra[::-1]\n",
    "\n",
    "print(\"Palabra invertida:\", palabra_invertida)\n"
   ]
  },
  {
   "cell_type": "code",
   "execution_count": null,
   "id": "8b1ca2d9",
   "metadata": {},
   "outputs": [],
   "source": [
    "# 5 Escribe un programa que reciba una cadena y retorna verdadero o falso si es palindrome sin importar los espacios, mayúsculas o minúsculas \n",
    "\n",
    "cadena = \"La Ruta Natural\"\n",
    "cadena_limpia = ''.join(cadena.lower().split())\n",
    "print(\"Ejemplo: \\\"La Ruta Natural \\\" \", cadena_limpia == cadena_limpia[::-1],cadena_limpia[::-1], \"->\", cadena_limpia[::-1])"
   ]
  },
  {
   "cell_type": "code",
   "execution_count": null,
   "id": "1a140ddb",
   "metadata": {},
   "outputs": [],
   "source": [
    "# 6 Agregar 5 Ejemplos con otras funciones no vistas en la sesión\n",
    "# Utilizar la documentación Métodos de cadenas\n",
    "\n",
    "texto = \"Python es divertido\"\n",
    "print(texto.startswith(\"Python\")) \n",
    "\n",
    "archivo = \"reporte_final.pdf\"\n",
    "print(archivo.endswith(\".pdf\"))  \n",
    "\n",
    "mensaje = \"Hola mundo\"\n",
    "nuevo_mensaje = mensaje.replace(\"mundo\", \"universo\")\n",
    "print(nuevo_mensaje)  \n",
    "\n",
    "frase = \"La luna es hermosa esta noche\"\n",
    "posicion = frase.find(\"hermosa\")\n",
    "print(posicion)  \n",
    "\n",
    "titulo = \"el señor de los anillos\"\n",
    "print(titulo.title())  \n"
   ]
  }
 ],
 "metadata": {
  "language_info": {
   "name": "python"
  }
 },
 "nbformat": 4,
 "nbformat_minor": 5
}
